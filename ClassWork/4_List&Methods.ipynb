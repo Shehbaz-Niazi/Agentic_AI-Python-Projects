{
  "nbformat": 4,
  "nbformat_minor": 0,
  "metadata": {
    "colab": {
      "provenance": [],
      "authorship_tag": "ABX9TyOA3tPjSRjZbBlHiR9iFuGu",
      "include_colab_link": true
    },
    "kernelspec": {
      "name": "python3",
      "display_name": "Python 3"
    },
    "language_info": {
      "name": "python"
    }
  },
  "cells": [
    {
      "cell_type": "markdown",
      "metadata": {
        "id": "view-in-github",
        "colab_type": "text"
      },
      "source": [
        "<a href=\"https://colab.research.google.com/github/Shehbaz-Niazi/Agentic_AI-Python-Projects/blob/main/ClassWork/4_List%26Methods.ipynb\" target=\"_parent\"><img src=\"https://colab.research.google.com/assets/colab-badge.svg\" alt=\"Open In Colab\"/></a>"
      ]
    },
    {
      "cell_type": "markdown",
      "source": [
        "# **List and its Methods**"
      ],
      "metadata": {
        "id": "dwlNNoL8dUCT"
      }
    },
    {
      "cell_type": "code",
      "execution_count": null,
      "metadata": {
        "colab": {
          "base_uri": "https://localhost:8080/"
        },
        "id": "-37ZrhMsccv9",
        "outputId": "e7d5f36b-55cc-4b06-bd43-a4a73cad0826"
      },
      "outputs": [
        {
          "output_type": "stream",
          "name": "stdout",
          "text": [
            "Shehbaz\n",
            "David\n",
            "Alam\n"
          ]
        }
      ],
      "source": [
        "# Old way of accessing elements within a list\n",
        "\n",
        "names = [\"Shehbaz\", \"Haris\", \"David\", \"Alam\", \"Abubakar\"]\n",
        "print(names[0])\n",
        "print(names[-3])\n",
        "\n",
        "print(names[-2])"
      ]
    },
    {
      "cell_type": "code",
      "source": [
        "from typing import Any\n",
        "\n",
        "names: list[Any] = [\"shehbaz\", \"Haris\", \"David\", \"Alam\", 12, True]\n",
        "print(names[-2])"
      ],
      "metadata": {
        "colab": {
          "base_uri": "https://localhost:8080/"
        },
        "id": "TO9gOt1EeTlV",
        "outputId": "738b425f-c04c-41a6-bb41-965ba537ef56"
      },
      "execution_count": null,
      "outputs": [
        {
          "output_type": "stream",
          "name": "stdout",
          "text": [
            "12\n"
          ]
        }
      ]
    },
    {
      "cell_type": "code",
      "source": [
        "#                       0         1        2        3     4    5\n",
        "names: list[Any] = [\"shehbaz\", \"Haris\", \"David\", \"Alam\", 12, True]\n",
        "#                     -6        -5       -4       -3     -2   -1\n",
        "\n",
        "print(names[-4])\n"
      ],
      "metadata": {
        "colab": {
          "base_uri": "https://localhost:8080/"
        },
        "id": "LMrYvlMyequL",
        "outputId": "df093174-dc9f-459d-93d6-8d039044788d"
      },
      "execution_count": null,
      "outputs": [
        {
          "output_type": "stream",
          "name": "stdout",
          "text": [
            "David\n"
          ]
        }
      ]
    },
    {
      "cell_type": "code",
      "source": [
        "'abcdef'"
      ],
      "metadata": {
        "colab": {
          "base_uri": "https://localhost:8080/",
          "height": 36
        },
        "id": "CLhf2cdkfLzy",
        "outputId": "80805952-b4be-468e-f6f3-fb5fe0ff5e9b"
      },
      "execution_count": null,
      "outputs": [
        {
          "output_type": "execute_result",
          "data": {
            "text/plain": [
              "'abcdef'"
            ],
            "application/vnd.google.colaboratory.intrinsic+json": {
              "type": "string"
            }
          },
          "metadata": {},
          "execution_count": 9
        }
      ]
    },
    {
      "cell_type": "code",
      "source": [
        "list('abcdef')"
      ],
      "metadata": {
        "colab": {
          "base_uri": "https://localhost:8080/"
        },
        "id": "Trg1sQ9YfOuP",
        "outputId": "2a13d719-236f-46a5-edac-fe08d7243f16"
      },
      "execution_count": null,
      "outputs": [
        {
          "output_type": "execute_result",
          "data": {
            "text/plain": [
              "['a', 'b', 'c', 'd', 'e', 'f']"
            ]
          },
          "metadata": {},
          "execution_count": 10
        }
      ]
    },
    {
      "cell_type": "code",
      "source": [
        "characters: list[str] = list('ABCDEFHIJKLMNOPQRSTUVWXYZ')\n",
        "print(characters)"
      ],
      "metadata": {
        "colab": {
          "base_uri": "https://localhost:8080/"
        },
        "id": "ObclTxfSfUp4",
        "outputId": "a3ad714e-26ca-4910-fcbb-6f39fb193ac7"
      },
      "execution_count": null,
      "outputs": [
        {
          "output_type": "stream",
          "name": "stdout",
          "text": [
            "['A', 'B', 'C', 'D', 'E', 'F', 'H', 'I', 'J', 'K', 'L', 'M', 'N', 'O', 'P', 'Q', 'R', 'S', 'T', 'U', 'V', 'W', 'X', 'Y', 'Z']\n"
          ]
        }
      ]
    },
    {
      "cell_type": "code",
      "source": [
        "characters: list[str] = ['A', 'B', 'C', 'D', 'E', 'F', 'G', 'H', 'I', 'J', 'K', 'L', 'M', 'N', 'O', 'P', 'Q', 'R', 'S', 'T', 'U', 'V', 'W', 'X', 'Y', 'Z']\n",
        "\n",
        "# The default slicing goes from left to right.\n",
        "print(characters[0:2]) # 0= include : index 2-1 = 1\n",
        "print(characters[:4]) # Zero will be added if we do not initialize the index.\n",
        "print(characters[-26:-24]) # 0= include : index -24-1 = -25\n",
        "print(characters[0:2:1]) # 0= include : index 2-1 = 1\n",
        "print(characters[0:2:]) # 0= include : index 2-1 = 1\n",
        "print(characters[0:2:]) # 0= include : index 2-1 = 1\n"
      ],
      "metadata": {
        "colab": {
          "base_uri": "https://localhost:8080/"
        },
        "id": "DWWC5TDbfoLH",
        "outputId": "6bec6982-6d00-4f4c-dc65-e09f60be485f"
      },
      "execution_count": null,
      "outputs": [
        {
          "output_type": "stream",
          "name": "stdout",
          "text": [
            "['A', 'B']\n",
            "['A', 'B', 'C', 'D']\n",
            "['A', 'B']\n",
            "['A', 'B']\n",
            "['A', 'B']\n",
            "['A', 'B']\n"
          ]
        }
      ]
    },
    {
      "cell_type": "code",
      "source": [
        "characters : list[str] = ['A', 'B', 'C', 'D', 'E', 'F', 'G', 'H', 'I', 'J', 'K', 'L', 'M', 'N', 'O', 'P', 'Q', 'R', 'S', 'T', 'U', 'V', 'W', 'X', 'Y', 'Z']\n",
        "\n",
        "print(characters[::])"
      ],
      "metadata": {
        "colab": {
          "base_uri": "https://localhost:8080/"
        },
        "id": "vbCWs0KNiZl5",
        "outputId": "54af7dcf-d686-4d47-d803-c0dfc810cff4"
      },
      "execution_count": null,
      "outputs": [
        {
          "output_type": "stream",
          "name": "stdout",
          "text": [
            "['A', 'B', 'C', 'D', 'E', 'F', 'G', 'H', 'I', 'J', 'K', 'L', 'M', 'N', 'O', 'P', 'Q', 'R', 'S', 'T', 'U', 'V', 'W', 'X', 'Y', 'Z']\n"
          ]
        }
      ]
    },
    {
      "cell_type": "code",
      "source": [
        "characters : list[str] = ['A', 'B', 'C', 'D', 'E', 'F', 'G', 'H', 'I', 'J', 'K', 'L', 'M', 'N', 'O', 'P', 'Q', 'R', 'S', 'T', 'U', 'V', 'W', 'X', 'Y', 'Z']\n",
        "\n",
        "print(characters[::2])"
      ],
      "metadata": {
        "colab": {
          "base_uri": "https://localhost:8080/"
        },
        "id": "aJmvdqZNigdu",
        "outputId": "80cd913b-3444-4c77-d3e5-93f6130e2e3f"
      },
      "execution_count": null,
      "outputs": [
        {
          "output_type": "stream",
          "name": "stdout",
          "text": [
            "['A', 'C', 'E', 'G', 'I', 'K', 'M', 'O', 'Q', 'S', 'U', 'W', 'Y']\n"
          ]
        }
      ]
    },
    {
      "cell_type": "code",
      "source": [
        "#                          0    1    2    3    4   5     6    7\n",
        "characters : list[str] = ['A', 'B', 'C', 'D', 'E', 'F', 'G', 'H']\n",
        "#                         -8    -7   -6  -5    -4   -3   -2   -1\n",
        "\n",
        "print(characters[1:-3]) #"
      ],
      "metadata": {
        "colab": {
          "base_uri": "https://localhost:8080/"
        },
        "id": "rKPBWHZxjA-O",
        "outputId": "ad3654cc-c33e-41b4-f519-e30f5583628b"
      },
      "execution_count": null,
      "outputs": [
        {
          "output_type": "stream",
          "name": "stdout",
          "text": [
            "['B', 'C', 'D', 'E']\n"
          ]
        }
      ]
    },
    {
      "cell_type": "code",
      "source": [
        "#                          0    1    2    3    4   5     6    7\n",
        "characters : list[str] = ['A', 'B', 'C', 'D', 'E', 'F', 'G', 'H']\n",
        "#                         -8    -7   -6  -5    -4   -3   -2   -1\n",
        "\n",
        "print(characters[-2:-5])"
      ],
      "metadata": {
        "colab": {
          "base_uri": "https://localhost:8080/"
        },
        "id": "-0LCVfmKjVKX",
        "outputId": "b9aabac7-815c-4bd4-8b98-491127e20315"
      },
      "execution_count": null,
      "outputs": [
        {
          "output_type": "stream",
          "name": "stdout",
          "text": [
            "[]\n"
          ]
        }
      ]
    },
    {
      "cell_type": "code",
      "source": [
        "#                          0    1    2    3    4   5     6    7\n",
        "characters : list[str] = ['A', 'B', 'C', 'D', 'E', 'F', 'G', 'H']\n",
        "#                         -8    -7   -6  -5   -4   -3   -2   -1\n",
        "\n",
        "print(characters[-2:-5:-1])"
      ],
      "metadata": {
        "colab": {
          "base_uri": "https://localhost:8080/"
        },
        "id": "ZgQZfLkKkD-3",
        "outputId": "dc4da57f-2298-4fca-eaf1-228d49bb46b4"
      },
      "execution_count": null,
      "outputs": [
        {
          "output_type": "stream",
          "name": "stdout",
          "text": [
            "['G', 'F', 'E']\n"
          ]
        }
      ]
    },
    {
      "cell_type": "code",
      "source": [
        "characters : list[str] = ['A', 'B', 'C', 'D', 'E', 'F', 'G', 'H', 'I', 'J', 'K', 'L', 'M', 'N', 'O', 'P', 'Q', 'R', 'S', 'T', 'U', 'V', 'W', 'X', 'Y', 'Z']\n",
        "\n",
        "print(characters[::-1]) # reverse elements"
      ],
      "metadata": {
        "colab": {
          "base_uri": "https://localhost:8080/"
        },
        "id": "-RVP046DkbGn",
        "outputId": "b8375786-63d1-45ff-a7f7-1f0da71b7a11"
      },
      "execution_count": null,
      "outputs": [
        {
          "output_type": "stream",
          "name": "stdout",
          "text": [
            "['Z', 'Y', 'X', 'W', 'V', 'U', 'T', 'S', 'R', 'Q', 'P', 'O', 'N', 'M', 'L', 'K', 'J', 'I', 'H', 'G', 'F', 'E', 'D', 'C', 'B', 'A']\n"
          ]
        }
      ]
    },
    {
      "cell_type": "markdown",
      "source": [
        "# **List Methods**"
      ],
      "metadata": {
        "id": "ILB5wQBVknIn"
      }
    },
    {
      "cell_type": "code",
      "source": [
        "print(dir(list))"
      ],
      "metadata": {
        "colab": {
          "base_uri": "https://localhost:8080/"
        },
        "id": "lpIcvr4ik-6u",
        "outputId": "6a902460-8cb0-4ffc-9562-ac2731ebd112"
      },
      "execution_count": null,
      "outputs": [
        {
          "output_type": "stream",
          "name": "stdout",
          "text": [
            "['__add__', '__class__', '__class_getitem__', '__contains__', '__delattr__', '__delitem__', '__dir__', '__doc__', '__eq__', '__format__', '__ge__', '__getattribute__', '__getitem__', '__getstate__', '__gt__', '__hash__', '__iadd__', '__imul__', '__init__', '__init_subclass__', '__iter__', '__le__', '__len__', '__lt__', '__mul__', '__ne__', '__new__', '__reduce__', '__reduce_ex__', '__repr__', '__reversed__', '__rmul__', '__setattr__', '__setitem__', '__sizeof__', '__str__', '__subclasshook__', 'append', 'clear', 'copy', 'count', 'extend', 'index', 'insert', 'pop', 'remove', 'reverse', 'sort']\n"
          ]
        }
      ]
    },
    {
      "cell_type": "code",
      "source": [
        "[i for i in dir(list) if \"__\"  not in i]"
      ],
      "metadata": {
        "colab": {
          "base_uri": "https://localhost:8080/"
        },
        "id": "W-bxYqtBkmce",
        "outputId": "9ddeb9be-a15c-49b5-f93d-d6c7f1f01901"
      },
      "execution_count": null,
      "outputs": [
        {
          "output_type": "execute_result",
          "data": {
            "text/plain": [
              "['append',\n",
              " 'clear',\n",
              " 'copy',\n",
              " 'count',\n",
              " 'extend',\n",
              " 'index',\n",
              " 'insert',\n",
              " 'pop',\n",
              " 'remove',\n",
              " 'reverse',\n",
              " 'sort']"
            ]
          },
          "metadata": {},
          "execution_count": 41
        }
      ]
    },
    {
      "cell_type": "code",
      "source": [
        "a: list[str] = [1,2,3]\n",
        "print(a)"
      ],
      "metadata": {
        "id": "eyzRRj8Llxzr",
        "colab": {
          "base_uri": "https://localhost:8080/"
        },
        "outputId": "ca70691c-2f05-4f07-f507-3afaf7d63bdc"
      },
      "execution_count": null,
      "outputs": [
        {
          "output_type": "stream",
          "name": "stdout",
          "text": [
            "[1, 2, 3]\n"
          ]
        }
      ]
    },
    {
      "cell_type": "markdown",
      "source": [
        " **1- del**\n",
        "\n",
        "---\n",
        "del remove variable from memory not item\n"
      ],
      "metadata": {
        "id": "N_vPQ9jcHq5I"
      }
    },
    {
      "cell_type": "code",
      "source": [
        "a: list[str] = [1,2,3]\n",
        "del a\n",
        "print(a)"
      ],
      "metadata": {
        "id": "2gAWb6ZMGUhO"
      },
      "execution_count": null,
      "outputs": []
    },
    {
      "cell_type": "markdown",
      "source": [
        "**2- Clear**\n",
        "\n",
        "---\n",
        " clear methode remove items with in the array\n"
      ],
      "metadata": {
        "id": "yhaHBZy6HwO-"
      }
    },
    {
      "cell_type": "code",
      "source": [
        "a: list[str] = [1,2,3]\n",
        "a.clear()\n",
        "print(a)"
      ],
      "metadata": {
        "colab": {
          "base_uri": "https://localhost:8080/"
        },
        "id": "kSwzl5gaGiCW",
        "outputId": "ebba4579-18e1-496e-810d-c101d3a56de7"
      },
      "execution_count": null,
      "outputs": [
        {
          "output_type": "stream",
          "name": "stdout",
          "text": [
            "[]\n"
          ]
        }
      ]
    },
    {
      "cell_type": "markdown",
      "source": [
        "**3- Help Function**\n",
        "\n",
        "---\n",
        "Help on built-in function print in module builtins:\n",
        "\n",
        "*   help(object)\n",
        "*   object?\n",
        "*   object??\n",
        "*   ?object\n",
        "*   ??object\n",
        "\n",
        "\n",
        "\n"
      ],
      "metadata": {
        "id": "RGDxetwaH46K"
      }
    },
    {
      "cell_type": "code",
      "source": [
        "help(print)"
      ],
      "metadata": {
        "colab": {
          "base_uri": "https://localhost:8080/"
        },
        "id": "HgvzlzVeHpw5",
        "outputId": "95d3ab05-ce37-4fff-9026-434fa07830ac"
      },
      "execution_count": null,
      "outputs": [
        {
          "output_type": "stream",
          "name": "stdout",
          "text": [
            "Help on built-in function print in module builtins:\n",
            "\n",
            "print(*args, sep=' ', end='\\n', file=None, flush=False)\n",
            "    Prints the values to a stream, or to sys.stdout by default.\n",
            "    \n",
            "    sep\n",
            "      string inserted between values, default a space.\n",
            "    end\n",
            "      string appended after the last value, default a newline.\n",
            "    file\n",
            "      a file-like object (stream); defaults to the current sys.stdout.\n",
            "    flush\n",
            "      whether to forcibly flush the stream.\n",
            "\n"
          ]
        }
      ]
    },
    {
      "cell_type": "code",
      "source": [
        "from typing import Any\n",
        "names: list[Any] = [\"shehbaz\", \"Haris\", \"David\", \"Alam\", 12, True]\n",
        "print(names)\n",
        "\n",
        "names[0] = \"Niaz muhammad\" # mutable\n",
        "print(names)"
      ],
      "metadata": {
        "colab": {
          "base_uri": "https://localhost:8080/"
        },
        "id": "wFL93CbcIu15",
        "outputId": "7e23ebf4-2d8e-4ff6-ae63-2a19f2aa85ec"
      },
      "execution_count": null,
      "outputs": [
        {
          "output_type": "stream",
          "name": "stdout",
          "text": [
            "['shehbaz', 'Haris', 'David', 'Alam', 12, True]\n",
            "['Niaz muhammad', 'Haris', 'David', 'Alam', 12, True]\n"
          ]
        }
      ]
    },
    {
      "cell_type": "code",
      "source": [
        "names: list[Any] = [\"shehbaz\", \"Haris\", \"David\", \"Alam\", 12, True]\n",
        "print(names)\n",
        "\n",
        "del names[4] # delete 3 index element\n",
        "print(names)"
      ],
      "metadata": {
        "colab": {
          "base_uri": "https://localhost:8080/"
        },
        "id": "kXQXr6xsJlNh",
        "outputId": "2cf87603-1471-42d6-8226-b3d53e1e4322"
      },
      "execution_count": null,
      "outputs": [
        {
          "output_type": "stream",
          "name": "stdout",
          "text": [
            "['shehbaz', 'Haris', 'David', 'Alam', 12, True]\n",
            "['shehbaz', 'Haris', 'David', 'Alam', True]\n"
          ]
        }
      ]
    },
    {
      "cell_type": "code",
      "source": [
        "a: str = print(\"United States Of America\")\n",
        "print(a) # its showed none because print is none return function"
      ],
      "metadata": {
        "colab": {
          "base_uri": "https://localhost:8080/"
        },
        "id": "MhMrhJfMLzpb",
        "outputId": "4991f12d-9578-4410-d889-1c003265647d"
      },
      "execution_count": null,
      "outputs": [
        {
          "output_type": "stream",
          "name": "stdout",
          "text": [
            "United States Of America\n",
            "None\n"
          ]
        }
      ]
    },
    {
      "cell_type": "markdown",
      "source": [
        "**4- Pop**\n",
        "\n",
        "---\n",
        " pop remove last elements in the list\n"
      ],
      "metadata": {
        "id": "xGwlpZuRMWTG"
      }
    },
    {
      "cell_type": "code",
      "source": [
        "names: list[Any] = [\"shehbaz\", \"Haris\", \"David\", \"Alam\", 12, True]\n",
        "print(names)\n",
        "\n",
        "popped_names: str = names.pop()\n",
        "print(f\"Popped name: {popped_names}\")\n",
        "print(names)\n",
        "\n",
        "popped_names_fromIndex = names.pop(2) # pop remove 2 index element\n",
        "print(f\"Popped name: {popped_names_fromIndex}\")\n",
        "print(names)\n"
      ],
      "metadata": {
        "colab": {
          "base_uri": "https://localhost:8080/"
        },
        "id": "MPnB8i08MOy-",
        "outputId": "64137536-22b1-4755-fd51-a124d7d47341"
      },
      "execution_count": null,
      "outputs": [
        {
          "output_type": "stream",
          "name": "stdout",
          "text": [
            "['shehbaz', 'Haris', 'David', 'Alam', 12, True]\n",
            "Popped name: True\n",
            "['shehbaz', 'Haris', 'David', 'Alam', 12]\n",
            "Popped name: David\n",
            "['shehbaz', 'Haris', 'Alam', 12]\n"
          ]
        }
      ]
    },
    {
      "cell_type": "markdown",
      "source": [
        "**5- Append**\n",
        "\n",
        "---\n",
        "add Elements in the last of list"
      ],
      "metadata": {
        "id": "3cahDMenNPk-"
      }
    },
    {
      "cell_type": "code",
      "source": [
        "myList: list[str] = ['a','b','c']\n",
        "print(myList)\n",
        "\n",
        "myList.append('d')\n",
        "myList.append('e')\n",
        "myList.append('f')\n",
        "print(myList)"
      ],
      "metadata": {
        "colab": {
          "base_uri": "https://localhost:8080/"
        },
        "id": "5ecJ74c3NPMY",
        "outputId": "1e6e4e7d-03cc-4406-c4fb-e35bc8bb0b4c"
      },
      "execution_count": null,
      "outputs": [
        {
          "output_type": "stream",
          "name": "stdout",
          "text": [
            "['a', 'b', 'c']\n",
            "['a', 'b', 'c', 'd', 'e', 'f']\n"
          ]
        }
      ]
    },
    {
      "cell_type": "markdown",
      "source": [
        "**5- Insert**\n",
        "\n",
        "---\n",
        "Insert Methode add values in particular position"
      ],
      "metadata": {
        "id": "B3GpjiMFOzjC"
      }
    },
    {
      "cell_type": "code",
      "source": [
        "names: list[str] = [\"shehbaz\", \"Haris\", \"David\", \"Alam\"]\n",
        "print(names)\n",
        "\n",
        "names.insert(1, \"Niaz Muhammad\")\n",
        "print(names)"
      ],
      "metadata": {
        "colab": {
          "base_uri": "https://localhost:8080/"
        },
        "id": "FWKBrrm-NOVn",
        "outputId": "4f0d1237-8e71-4bb0-a4eb-6a378d9fb343"
      },
      "execution_count": null,
      "outputs": [
        {
          "output_type": "stream",
          "name": "stdout",
          "text": [
            "['shehbaz', 'Haris', 'David', 'Alam']\n",
            "['shehbaz', 'Niaz Muhammad', 'Haris', 'David', 'Alam']\n"
          ]
        }
      ]
    },
    {
      "cell_type": "markdown",
      "source": [
        "**Shallow Copy and Deep Copy**"
      ],
      "metadata": {
        "id": "7DWw__F2P_eD"
      }
    },
    {
      "cell_type": "code",
      "source": [
        "# shallow copy\n",
        "\n",
        "character: list[str] = [\"a\", \"b\", \"c\"]\n",
        "characters = character\n",
        "\n",
        "print(characters)\n",
        "print(character)\n",
        "\n",
        "characters[1] = \"khan\"\n",
        "\n",
        "print(characters)\n",
        "print(character)\n",
        "\n",
        "\n"
      ],
      "metadata": {
        "colab": {
          "base_uri": "https://localhost:8080/"
        },
        "id": "KchbucmiP-0h",
        "outputId": "dea441e5-6632-4959-b7b1-d83c90799846"
      },
      "execution_count": null,
      "outputs": [
        {
          "output_type": "stream",
          "name": "stdout",
          "text": [
            "['a', 'b', 'c']\n",
            "['a', 'b', 'c']\n",
            "['a', 'khan', 'c']\n",
            "['a', 'khan', 'c']\n"
          ]
        }
      ]
    },
    {
      "cell_type": "code",
      "source": [
        "# Deep Copy\n",
        "\n",
        "character: list[str] = [\"a\", \"b\", \"c\"]\n",
        "characters = character.copy() # copy methode creates a new list\n",
        "\n",
        "print(characters)\n",
        "print(character)\n",
        "\n",
        "characters[1] = \"khan\"\n",
        "\n",
        "print(characters)\n",
        "print(character)"
      ],
      "metadata": {
        "colab": {
          "base_uri": "https://localhost:8080/"
        },
        "id": "mx4o-QwmP5Kr",
        "outputId": "2cf56208-380e-46d2-ae95-993ecdb039b7"
      },
      "execution_count": null,
      "outputs": [
        {
          "output_type": "stream",
          "name": "stdout",
          "text": [
            "['a', 'b', 'c']\n",
            "['a', 'b', 'c']\n",
            "['a', 'khan', 'c']\n",
            "['a', 'b', 'c']\n"
          ]
        }
      ]
    },
    {
      "cell_type": "markdown",
      "source": [
        "**6- Count**"
      ],
      "metadata": {
        "id": "2lwFdIKSSGES"
      }
    },
    {
      "cell_type": "code",
      "source": [
        "names : list[str] = ['a','a','a','b','c','c']\n",
        "print(names.count(\"c\"))\n",
        "print(names.count(\"a\"))"
      ],
      "metadata": {
        "colab": {
          "base_uri": "https://localhost:8080/"
        },
        "id": "m7SziFyfSFGB",
        "outputId": "95ea3006-6845-4ef4-b526-6659761e5b00"
      },
      "execution_count": null,
      "outputs": [
        {
          "output_type": "stream",
          "name": "stdout",
          "text": [
            "2\n",
            "3\n"
          ]
        }
      ]
    },
    {
      "cell_type": "code",
      "source": [
        "friends: list[str] = [\"shehbaz\", \"Haris\", \"David\", \"Alam\"]\n",
        "new_friends: list[str] = ['Abubakar', 'Danyal', 'Osama']\n",
        "friends.append(new_friends)\n",
        "print(friends) # append add list inside the another list not add items"
      ],
      "metadata": {
        "colab": {
          "base_uri": "https://localhost:8080/"
        },
        "id": "oEPU-PsqSlj2",
        "outputId": "47bc70d7-7501-4a65-a64b-3f175d00f470"
      },
      "execution_count": null,
      "outputs": [
        {
          "output_type": "stream",
          "name": "stdout",
          "text": [
            "['shehbaz', 'Haris', 'David', 'Alam', ['Abubakar', 'Danyal', 'Osama']]\n"
          ]
        }
      ]
    },
    {
      "cell_type": "markdown",
      "source": [
        "**7- Extend**"
      ],
      "metadata": {
        "id": "pgfIPI4tTSkk"
      }
    },
    {
      "cell_type": "code",
      "source": [
        "friends: list[str] = [\"shehbaz\", \"Haris\", \"David\", \"Alam\"]\n",
        "new_friends: list[str] = ['Abubakar', 'Danyal', 'Osama']\n",
        "friends.extend(new_friends) #extend add list elements inside the another list\n",
        "print(friends)\n"
      ],
      "metadata": {
        "colab": {
          "base_uri": "https://localhost:8080/"
        },
        "id": "iPlsIxbfTR19",
        "outputId": "46d9eeb9-10c8-428f-e56e-df38beb3847c"
      },
      "execution_count": null,
      "outputs": [
        {
          "output_type": "stream",
          "name": "stdout",
          "text": [
            "['shehbaz', 'Haris', 'David', 'Alam', 'Abubakar', 'Danyal', 'Osama']\n"
          ]
        }
      ]
    },
    {
      "cell_type": "code",
      "source": [
        "friends: list[str] = [\"shehbaz\", \"Haris\", \"David\", \"Alam\"]\n",
        "del friends[1:3]  # remove with index number\n",
        "print(friends)"
      ],
      "metadata": {
        "colab": {
          "base_uri": "https://localhost:8080/"
        },
        "id": "okXjqKERP3JT",
        "outputId": "08e8a7c6-82d6-4e53-bc29-393c4bb0bd09"
      },
      "execution_count": null,
      "outputs": [
        {
          "output_type": "stream",
          "name": "stdout",
          "text": [
            "['shehbaz', 'Alam']\n"
          ]
        }
      ]
    },
    {
      "cell_type": "code",
      "source": [
        "friends: list[str] = [\"shehbaz\", \"Haris\", \"David\", \"Alam\"]\n",
        "friends.remove(\"Alam\")\n",
        "print(friends) # remove with text value\n"
      ],
      "metadata": {
        "colab": {
          "base_uri": "https://localhost:8080/"
        },
        "id": "dXffCke1QCwh",
        "outputId": "8dc3e67b-b81c-40ff-8970-d635d205246f"
      },
      "execution_count": null,
      "outputs": [
        {
          "output_type": "stream",
          "name": "stdout",
          "text": [
            "['shehbaz', 'Haris', 'David']\n"
          ]
        }
      ]
    },
    {
      "cell_type": "markdown",
      "source": [
        "**8- Index**"
      ],
      "metadata": {
        "id": "CetEbUfsQkaC"
      }
    },
    {
      "cell_type": "code",
      "source": [
        "friends: list[str] = [\"shehbaz\", \"Haris\", \"David\", \"Alam\"]\n",
        "friends.index(\"Haris\")"
      ],
      "metadata": {
        "colab": {
          "base_uri": "https://localhost:8080/"
        },
        "id": "b4oq6vPyQTW5",
        "outputId": "04611a0f-399f-4d9b-8c24-06793ab1383b"
      },
      "execution_count": null,
      "outputs": [
        {
          "output_type": "execute_result",
          "data": {
            "text/plain": [
              "1"
            ]
          },
          "metadata": {},
          "execution_count": 6
        }
      ]
    },
    {
      "cell_type": "code",
      "source": [
        "friends: list[str] = [\"shehbaz\", \"Haris\", \"David\", \"Alam\", \"shehbaz\", \"Haris\"]\n",
        "friends.index(\"shehbaz\", 1)"
      ],
      "metadata": {
        "colab": {
          "base_uri": "https://localhost:8080/"
        },
        "id": "SoSHux3DQsQR",
        "outputId": "a4fb1854-977c-4679-98df-f02c5cefa123"
      },
      "execution_count": null,
      "outputs": [
        {
          "output_type": "execute_result",
          "data": {
            "text/plain": [
              "4"
            ]
          },
          "metadata": {},
          "execution_count": 15
        }
      ]
    },
    {
      "cell_type": "markdown",
      "source": [
        "**9- Reverse**"
      ],
      "metadata": {
        "id": "ILTEQa5jREMj"
      }
    },
    {
      "cell_type": "code",
      "source": [
        "character: list[str] = list(\"ABCDEF\")\n",
        "print(character)\n",
        "\n",
        "character.reverse()\n",
        "print(character)"
      ],
      "metadata": {
        "colab": {
          "base_uri": "https://localhost:8080/"
        },
        "id": "PvLH8l-DRDbD",
        "outputId": "91d807a5-413a-4327-a5f4-bb5c2e02ba48"
      },
      "execution_count": null,
      "outputs": [
        {
          "output_type": "stream",
          "name": "stdout",
          "text": [
            "['A', 'B', 'C', 'D', 'E', 'F']\n",
            "['F', 'E', 'D', 'C', 'B', 'A']\n"
          ]
        }
      ]
    },
    {
      "cell_type": "markdown",
      "source": [
        "**10-  Sort**"
      ],
      "metadata": {
        "id": "z_-3ZVI_RoNr"
      }
    },
    {
      "cell_type": "code",
      "source": [
        "character: list[str] = list(\"ABCDEF\")\n",
        "print(character)\n",
        "\n",
        "character.reverse()\n",
        "print(character)\n",
        "\n",
        "character.sort()\n",
        "print(character)\n",
        "\n"
      ],
      "metadata": {
        "colab": {
          "base_uri": "https://localhost:8080/"
        },
        "id": "4UfqjDBfRk5I",
        "outputId": "7906a255-3912-41ef-9cdf-f66edee8aa7a"
      },
      "execution_count": null,
      "outputs": [
        {
          "output_type": "stream",
          "name": "stdout",
          "text": [
            "['A', 'B', 'C', 'D', 'E', 'F']\n",
            "['F', 'E', 'D', 'C', 'B', 'A']\n",
            "['A', 'B', 'C', 'D', 'E', 'F']\n"
          ]
        }
      ]
    },
    {
      "cell_type": "code",
      "source": [
        "character: list[str] = list(\"126354\")\n",
        "print(character)\n",
        "character.sort(reverse=True)\n",
        "print(character)"
      ],
      "metadata": {
        "colab": {
          "base_uri": "https://localhost:8080/"
        },
        "id": "6sMglmR-R2Yn",
        "outputId": "c5e32b3c-bd14-451d-f917-62bac6069411"
      },
      "execution_count": null,
      "outputs": [
        {
          "output_type": "stream",
          "name": "stdout",
          "text": [
            "['1', '2', '6', '3', '5', '4']\n",
            "['6', '5', '4', '3', '2', '1']\n"
          ]
        }
      ]
    }
  ]
}
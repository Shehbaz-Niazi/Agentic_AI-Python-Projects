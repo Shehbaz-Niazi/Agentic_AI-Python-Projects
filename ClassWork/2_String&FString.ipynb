{
  "nbformat": 4,
  "nbformat_minor": 0,
  "metadata": {
    "colab": {
      "provenance": [],
      "authorship_tag": "ABX9TyN2y4svipSQPmyerBEYwdCo",
      "include_colab_link": true
    },
    "kernelspec": {
      "name": "python3",
      "display_name": "Python 3"
    },
    "language_info": {
      "name": "python"
    }
  },
  "cells": [
    {
      "cell_type": "markdown",
      "metadata": {
        "id": "view-in-github",
        "colab_type": "text"
      },
      "source": [
        "<a href=\"https://colab.research.google.com/github/Shehbaz-Niazi/Agentic_AI-Python-Projects/blob/main/ClassWork/2_String%26FString.ipynb\" target=\"_parent\"><img src=\"https://colab.research.google.com/assets/colab-badge.svg\" alt=\"Open In Colab\"/></a>"
      ]
    },
    {
      "cell_type": "markdown",
      "source": [
        "# **\\ (Back Slash)**"
      ],
      "metadata": {
        "id": "qR7KThUoNAE9"
      }
    },
    {
      "cell_type": "code",
      "source": [
        "name: str = \"Shehbaz Niazi\"\n",
        "fname: str = \"Niaz muhammad Niazi\"\n",
        "age: int = 19\n",
        "education: str = \"Intermediate in Pre-medical\"\n",
        "\n",
        "print(\"Name: \", name)\n",
        "print(\"Father's Name: \", fname)\n",
        "print(\"Age: \", age)\n",
        "print(\"Education: \", education)"
      ],
      "metadata": {
        "colab": {
          "base_uri": "https://localhost:8080/"
        },
        "id": "8LXNzZr1M_pU",
        "outputId": "2802b2b8-45c9-44ac-c536-6f65c6968c62"
      },
      "execution_count": null,
      "outputs": [
        {
          "output_type": "stream",
          "name": "stdout",
          "text": [
            "Name:  Shehbaz Niazi\n",
            "Father's Name:  Niaz muhammad Niazi\n",
            "Age:  19\n",
            "Education:  Intermediate in Pre-medical\n"
          ]
        }
      ]
    },
    {
      "cell_type": "markdown",
      "source": [
        "# Use Back slash \\n to change or skip lines"
      ],
      "metadata": {
        "id": "DKUN6PQqOk6s"
      }
    },
    {
      "cell_type": "code",
      "execution_count": null,
      "metadata": {
        "colab": {
          "base_uri": "https://localhost:8080/"
        },
        "id": "P7Rao_PcMT4q",
        "outputId": "0528a783-324a-4978-fad2-107593d30010"
      },
      "outputs": [
        {
          "output_type": "stream",
          "name": "stdout",
          "text": [
            "Name: Shehbaz Niazi: \n",
            "father_Name: Niaz Muhammad Niazi\n"
          ]
        }
      ],
      "source": [
        "full_Detail = \"Name: Shehbaz Niazi: \\nfather_Name: Niaz Muhammad Niazi\"\n",
        "print(full_Detail)"
      ]
    },
    {
      "cell_type": "markdown",
      "source": [
        "## Convert any special character into any simple character"
      ],
      "metadata": {
        "id": "H_L09Q8oOz_w"
      }
    },
    {
      "cell_type": "markdown",
      "source": [
        "we are using string text and inside this string text we are using another string text"
      ],
      "metadata": {
        "id": "Dm7_XWuwQR5K"
      }
    },
    {
      "cell_type": "code",
      "source": [
        "double_String = \"Name: \\\"Shehbaz Niazi\\\" \\nfather_Name: \\\"Niaz Muhammad Niazi\\\"\"\n",
        "print(double_String)"
      ],
      "metadata": {
        "colab": {
          "base_uri": "https://localhost:8080/"
        },
        "id": "au5pKVkdOtmf",
        "outputId": "0c965361-396c-4dea-d54a-7f5cd3f8ff1b"
      },
      "execution_count": null,
      "outputs": [
        {
          "output_type": "stream",
          "name": "stdout",
          "text": [
            "Name: \"Shehbaz Niazi\" \n",
            "father_Name: \"Niaz Muhammad Niazi\"\n"
          ]
        }
      ]
    },
    {
      "cell_type": "code",
      "source": [
        "single_String: str = 'Name: \\'Shehbaz Niazi\\' \\nfather_Name: \\'Niaz Muhammad Niazi\\''\n",
        "print(single_String)"
      ],
      "metadata": {
        "colab": {
          "base_uri": "https://localhost:8080/"
        },
        "id": "swkZU5g5QtpK",
        "outputId": "46550d0e-48aa-4282-d0b5-98399598c139"
      },
      "execution_count": null,
      "outputs": [
        {
          "output_type": "stream",
          "name": "stdout",
          "text": [
            "Name: 'Shehbaz Niazi' \n",
            "father_Name: 'Niaz Muhammad Niazi'\n"
          ]
        }
      ]
    },
    {
      "cell_type": "markdown",
      "source": [
        "# **String Bondries**"
      ],
      "metadata": {
        "id": "st1KnTAjRtha"
      }
    },
    {
      "cell_type": "markdown",
      "source": [
        "In this case we are using the backslash n (\\n) and the plus operator too often and that is why it is not a good technique."
      ],
      "metadata": {
        "id": "L1dxHPHnSn5u"
      }
    },
    {
      "cell_type": "code",
      "source": [
        "name: str = \"Shehbaz Niazi\"\n",
        "fname: str = \"Niaz muhammad Niazi\"\n",
        "age: int = 19\n",
        "education: str = \"Intermediate in Pre-medical\"\n",
        "\n",
        "card: str = \"Name: \" + name + \"\\nfather_Name: \" + fname + \"\\nage: \" + str(age) + \"\\neducation: \" + education\n",
        "print(card)"
      ],
      "metadata": {
        "colab": {
          "base_uri": "https://localhost:8080/"
        },
        "id": "cIIgCCGTRe7c",
        "outputId": "85d08619-69e4-46b3-cf74-0ad4a7bcd983"
      },
      "execution_count": null,
      "outputs": [
        {
          "output_type": "stream",
          "name": "stdout",
          "text": [
            "Name: Shehbaz Niazi\n",
            "father_Name: Niaz muhammad Niazi\n",
            "age: 19\n",
            "education: Intermediate in Pre-medical\n"
          ]
        }
      ]
    },
    {
      "cell_type": "code",
      "source": [
        "\"a\" + str(7)"
      ],
      "metadata": {
        "colab": {
          "base_uri": "https://localhost:8080/",
          "height": 36
        },
        "id": "SdF3bCGJSmsf",
        "outputId": "e6660102-6cbb-4d92-a48f-63bc14303573"
      },
      "execution_count": null,
      "outputs": [
        {
          "output_type": "execute_result",
          "data": {
            "text/plain": [
              "'a7'"
            ],
            "application/vnd.google.colaboratory.intrinsic+json": {
              "type": "string"
            }
          },
          "metadata": {},
          "execution_count": 40
        }
      ]
    },
    {
      "cell_type": "markdown",
      "source": [
        "we are using (backslash) \\ to continue the lines"
      ],
      "metadata": {
        "id": "SH0DqSjGTVKx"
      }
    },
    {
      "cell_type": "code",
      "source": [
        "print(10\\\n",
        "      +10\\\n",
        "      +10)"
      ],
      "metadata": {
        "colab": {
          "base_uri": "https://localhost:8080/"
        },
        "id": "Fg7EhewcTSMa",
        "outputId": "8297085f-c9c3-4829-d657-80613fc863b9"
      },
      "execution_count": null,
      "outputs": [
        {
          "output_type": "stream",
          "name": "stdout",
          "text": [
            "30\n"
          ]
        }
      ]
    },
    {
      "cell_type": "code",
      "source": [
        "name: str = \"Shehbaz Niazi\"\n",
        "fname: str = \"Niaz muhammad Niazi\"\n",
        "age: int = 19\n",
        "education: str = \"Intermediate in Pre-medical\"\n",
        "\n",
        "card: str = \"Name: \" + name + \"\\nfather_Name: \" \\\n",
        "+ fname + \"\\nage: \" \\\n",
        "+ str(age) + \"\\neducation: \" \\\n",
        "+ education\n",
        "print(card)"
      ],
      "metadata": {
        "colab": {
          "base_uri": "https://localhost:8080/"
        },
        "id": "3j4dvgwZTqz7",
        "outputId": "cd88af42-a090-4f47-ff70-03f7ade3b35b"
      },
      "execution_count": null,
      "outputs": [
        {
          "output_type": "stream",
          "name": "stdout",
          "text": [
            "Name: Shehbaz Niazi\n",
            "father_Name: Niaz muhammad Niazi\n",
            "age: 19\n",
            "education: Intermediate in Pre-medical\n"
          ]
        }
      ]
    },
    {
      "cell_type": "markdown",
      "source": [
        "# **Define Multi Strings (\"\"\" \"\"\")(''' ''') single quotes and double quotes**"
      ],
      "metadata": {
        "id": "9OaYmNOvU8jE"
      }
    },
    {
      "cell_type": "code",
      "source": [
        "name: str = \"Shehbaz Niazi\"\n",
        "fname: str = \"Niaz muhammad Niazi\"\n",
        "age: int = 19\n",
        "education: str = \"Intermediate in Pre-medical\"\n",
        "\n",
        "# if we write anything inside triple double quotes  in python it will appear exactly as it is shown\n",
        "card: str = \"\"\"\n",
        "name: name.......\n",
        "father_Name: fname.....\n",
        "age: age......\n",
        "education: education......\n",
        "\"\"\"\n",
        "\n",
        "# single triple quotes use case are same as triple double quotes\n",
        "card2: str = '''\n",
        "name: name.......\n",
        "father_Name: fname.....\n",
        "age: age......\n",
        "education: education......\n",
        "'''\n",
        "\n",
        "print(card)\n",
        "print(card2)"
      ],
      "metadata": {
        "colab": {
          "base_uri": "https://localhost:8080/"
        },
        "id": "09BRPrVEU2Zp",
        "outputId": "889b1102-67a0-4441-f2b6-11db5dd60a5e"
      },
      "execution_count": null,
      "outputs": [
        {
          "output_type": "stream",
          "name": "stdout",
          "text": [
            "\n",
            "name: name.......\n",
            "father_Name: fname.....\n",
            "age: age......\n",
            "education: education......\n",
            "\n",
            "\n",
            "name: name.......\n",
            "father_Name: fname.....\n",
            "age: age......\n",
            "education: education......\n",
            "\n"
          ]
        }
      ]
    },
    {
      "cell_type": "markdown",
      "source": [
        "##**F-string pthon**"
      ],
      "metadata": {
        "id": "ckvn5elBXELh"
      }
    },
    {
      "cell_type": "code",
      "source": [
        "name: str = \"Shehbaz Niazi\"\n",
        "fname: str = \"Niaz muhammad Niazi\"\n",
        "age: int = 19\n",
        "education: str = \"Intermediate in Pre-medical\"\n",
        "\n",
        "# In f-string we use curly braces and inside this braces we use global variable and it show its variable value not variable name\n",
        "card3: str = f\"\"\"\n",
        "name: {name}\n",
        "father_Name: {fname}\n",
        "age: {age}\n",
        "education: {education}\n",
        "\"\"\"\n",
        "\n",
        "print(card3)"
      ],
      "metadata": {
        "colab": {
          "base_uri": "https://localhost:8080/"
        },
        "id": "KhGGCwZUXB6f",
        "outputId": "778d22bf-c5d6-45e6-8e57-be52b2d81fc1"
      },
      "execution_count": null,
      "outputs": [
        {
          "output_type": "stream",
          "name": "stdout",
          "text": [
            "\n",
            "name: Shehbaz Niazi\n",
            "father_Name: Niaz muhammad Niazi\n",
            "age: 19\n",
            "education: Intermediate in Pre-medical\n",
            "\n"
          ]
        }
      ]
    },
    {
      "cell_type": "code",
      "source": [
        "name: str = \"Shehbaz Niazi\"\n",
        "fname: str = \"Niaz muhammad Niazi\"\n",
        "age: int = 19\n",
        "education: str = \"Intermediate in Pre-medical\"\n",
        "\n",
        "# we can use single triple quotes with f-string. It will work\n",
        "\n",
        "card4: str = f'''\n",
        "name: {name}\n",
        "father_Name: {fname}\n",
        "age: {age}\n",
        "education: {education}\n",
        "'''\n",
        "\n",
        "print(card4)"
      ],
      "metadata": {
        "colab": {
          "base_uri": "https://localhost:8080/"
        },
        "id": "bWxS-iAiX5Qw",
        "outputId": "1eb617f8-d963-4ada-ada1-a8593ca18575"
      },
      "execution_count": null,
      "outputs": [
        {
          "output_type": "stream",
          "name": "stdout",
          "text": [
            "\n",
            "name: Shehbaz Niazi\n",
            "father_Name: Niaz muhammad Niazi\n",
            "age: 19\n",
            "education: Intermediate in Pre-medical\n",
            "\n"
          ]
        }
      ]
    },
    {
      "cell_type": "markdown",
      "source": [
        "We can use different type of oprations inside the f-string"
      ],
      "metadata": {
        "id": "Ic21QZSWrZZZ"
      }
    },
    {
      "cell_type": "code",
      "source": [
        "name: str = \"Shehbaz Niazi\"\n",
        "fname: str = \"Niaz muhammad Niazi\"\n",
        "age: int = 19\n",
        "education: str = \"Intermediate in Pre-medical\"\n",
        "\n",
        "card5: str = f'''\n",
        "name: {name}\n",
        "father_Name: {fname}\n",
        "age: {age}\n",
        "education: {education}\n",
        "Total : {10 + 20 + 20}\n",
        "\n",
        "'''\n",
        "\n",
        "print(card5)\n"
      ],
      "metadata": {
        "id": "41Ogx2oqYNYr",
        "colab": {
          "base_uri": "https://localhost:8080/"
        },
        "outputId": "dd397504-9306-4c7d-9d97-1d8fc9fc14cd"
      },
      "execution_count": null,
      "outputs": [
        {
          "output_type": "stream",
          "name": "stdout",
          "text": [
            "\n",
            "name: Shehbaz Niazi\n",
            "father_Name: Niaz muhammad Niazi\n",
            "age: 19\n",
            "education: Intermediate in Pre-medical\n",
            "Total : 50\n",
            "\n",
            "\n"
          ]
        }
      ]
    },
    {
      "cell_type": "markdown",
      "source": [
        "# **F-String and jinga Style**"
      ],
      "metadata": {
        "id": "kXQ2MV2EsNE2"
      }
    },
    {
      "cell_type": "code",
      "source": [
        "student_Name: str = {name}\n",
        "f\"\"\"\n",
        "Student Name: {student_Name}\n",
        "\"\"\"\n"
      ],
      "metadata": {
        "colab": {
          "base_uri": "https://localhost:8080/",
          "height": 36
        },
        "id": "fXqMAx_HsH-d",
        "outputId": "1fae9f13-1bf6-4797-effe-139c02453050"
      },
      "execution_count": null,
      "outputs": [
        {
          "output_type": "execute_result",
          "data": {
            "text/plain": [
              "\"\\nStudent Name: {'Shehbaz Niazi'}\\n\""
            ],
            "application/vnd.google.colaboratory.intrinsic+json": {
              "type": "string"
            }
          },
          "metadata": {},
          "execution_count": 8
        }
      ]
    },
    {
      "cell_type": "markdown",
      "source": [
        "**Jinja Style**"
      ],
      "metadata": {
        "id": "1IK0UHAOsmT7"
      }
    },
    {
      "cell_type": "code",
      "source": [
        "name: str = \"Shehbaz Niazi\"\n",
        "fname: str = \"Niaz muhammad Niazi\"\n",
        "age: int = 19\n",
        "education: str = \"Intermediate in Pre-medical\"\n",
        "\n",
        "card6: str = f\"\"\"\n",
        "Student Name: %s\n",
        "father_name: %s\n",
        "age: %d\n",
        "education: %s\n",
        "\"\"\" % (name, fname, age, education)\n",
        "\n",
        "print(card6)"
      ],
      "metadata": {
        "colab": {
          "base_uri": "https://localhost:8080/"
        },
        "id": "fg5jyGueslsY",
        "outputId": "9587f59c-73db-4044-b4cc-c64d6cb37664"
      },
      "execution_count": null,
      "outputs": [
        {
          "output_type": "stream",
          "name": "stdout",
          "text": [
            "\n",
            "Student Name: Shehbaz Niazi\n",
            "father_name: Niaz muhammad Niazi\n",
            "age: 19\n",
            "education: Intermediate in Pre-medical\n",
            "\n"
          ]
        }
      ]
    },
    {
      "cell_type": "code",
      "source": [
        "[i for i in dir(str) if \"_\" not in i]"
      ],
      "metadata": {
        "colab": {
          "base_uri": "https://localhost:8080/"
        },
        "id": "ooHxyYbjtkS7",
        "outputId": "ac48e0ea-d514-485b-d25d-406e59131109"
      },
      "execution_count": null,
      "outputs": [
        {
          "output_type": "execute_result",
          "data": {
            "text/plain": [
              "['capitalize',\n",
              " 'casefold',\n",
              " 'center',\n",
              " 'count',\n",
              " 'encode',\n",
              " 'endswith',\n",
              " 'expandtabs',\n",
              " 'find',\n",
              " 'format',\n",
              " 'index',\n",
              " 'isalnum',\n",
              " 'isalpha',\n",
              " 'isascii',\n",
              " 'isdecimal',\n",
              " 'isdigit',\n",
              " 'isidentifier',\n",
              " 'islower',\n",
              " 'isnumeric',\n",
              " 'isprintable',\n",
              " 'isspace',\n",
              " 'istitle',\n",
              " 'isupper',\n",
              " 'join',\n",
              " 'ljust',\n",
              " 'lower',\n",
              " 'lstrip',\n",
              " 'maketrans',\n",
              " 'partition',\n",
              " 'removeprefix',\n",
              " 'removesuffix',\n",
              " 'replace',\n",
              " 'rfind',\n",
              " 'rindex',\n",
              " 'rjust',\n",
              " 'rpartition',\n",
              " 'rsplit',\n",
              " 'rstrip',\n",
              " 'split',\n",
              " 'splitlines',\n",
              " 'startswith',\n",
              " 'strip',\n",
              " 'swapcase',\n",
              " 'title',\n",
              " 'translate',\n",
              " 'upper',\n",
              " 'zfill']"
            ]
          },
          "metadata": {},
          "execution_count": 22
        }
      ]
    },
    {
      "cell_type": "markdown",
      "source": [
        "# **String Methods**"
      ],
      "metadata": {
        "id": "I7HUkkU5uEbO"
      }
    },
    {
      "cell_type": "code",
      "source": [
        "a = 10\n",
        "b = 20\n",
        "\n",
        "\"The total sum of a = {} and b = {} is \".format(a,b)"
      ],
      "metadata": {
        "colab": {
          "base_uri": "https://localhost:8080/",
          "height": 36
        },
        "id": "MA-RNhqDtviM",
        "outputId": "2bf6cb3d-4447-474a-8b0d-a5fdd006ef51"
      },
      "execution_count": null,
      "outputs": [
        {
          "output_type": "execute_result",
          "data": {
            "text/plain": [
              "'The total sum of a = 10 and b = 20 is '"
            ],
            "application/vnd.google.colaboratory.intrinsic+json": {
              "type": "string"
            }
          },
          "metadata": {},
          "execution_count": 28
        }
      ]
    },
    {
      "cell_type": "markdown",
      "source": [
        "Capitalize || lower Methode"
      ],
      "metadata": {
        "id": "Yx4wpYZ6uz2L"
      }
    },
    {
      "cell_type": "code",
      "source": [
        "name: str = \"ShEhBaz NIazI\"\n",
        "print(name.capitalize())\n",
        "print(name.lower())"
      ],
      "metadata": {
        "colab": {
          "base_uri": "https://localhost:8080/"
        },
        "id": "_rh3mTB5urQ6",
        "outputId": "d3ac685e-2714-4da4-a46a-02b7ff53e51b"
      },
      "execution_count": null,
      "outputs": [
        {
          "output_type": "stream",
          "name": "stdout",
          "text": [
            "Shehbaz niazi\n",
            "shehbaz niazi\n"
          ]
        }
      ]
    },
    {
      "cell_type": "code",
      "source": [],
      "metadata": {
        "id": "s3zGS-kyyZ8i"
      },
      "execution_count": null,
      "outputs": []
    },
    {
      "cell_type": "code",
      "source": [
        "name: str = \"Shehbaz Niazi\"\n",
        "fname: str = \"Niaz muhammad Niazi\"\n",
        "age: int = 19\n",
        "education: str = \"Intermediate in Pre-medical\"\n",
        "\n",
        "card7: str = \"\"\"\n",
        "PIAIC Student Card\n",
        "Student Name: {}\n",
        "Father Name: {}\n",
        "Age: {}\n",
        "Education: {}\n",
        "\"\"\".format(name,fname,age,education)\n",
        "\n",
        "print(card7)"
      ],
      "metadata": {
        "colab": {
          "base_uri": "https://localhost:8080/"
        },
        "id": "9xaIK2HwuzAR",
        "outputId": "2cbe4b34-6580-4afe-c918-f3bb477070de"
      },
      "execution_count": null,
      "outputs": [
        {
          "output_type": "stream",
          "name": "stdout",
          "text": [
            "\n",
            "PIAIC Student Card\n",
            "Student Name: Shehbaz Niazi\n",
            "Father Name: Niaz muhammad Niazi\n",
            "Age: 19\n",
            "Education: Intermediate in Pre-medical\n",
            "\n"
          ]
        }
      ]
    },
    {
      "cell_type": "code",
      "source": [
        "name: str = \"Shehbaz Niazi\"\n",
        "fname: str = \"Niaz muhammad Niazi\"\n",
        "age: int = 19\n",
        "education: str = \"Intermediate in Pre-medical\"\n",
        "\n",
        "card8: str = \"\"\"\n",
        "PIAIC Student Card\n",
        "Student Name: {0}\n",
        "Father Name: {1}\n",
        "Age: {2}\n",
        "Education: {3}\n",
        "\"\"\".format(name,fname,age,education)\n",
        "\n",
        "print(card8)\n"
      ],
      "metadata": {
        "colab": {
          "base_uri": "https://localhost:8080/"
        },
        "id": "IPgwe8ehvppM",
        "outputId": "770fae0c-98bd-40bd-bc9e-4ed1aa2015a7"
      },
      "execution_count": null,
      "outputs": [
        {
          "output_type": "stream",
          "name": "stdout",
          "text": [
            "\n",
            "PIAIC Student Card\n",
            "Student Name: Shehbaz Niazi\n",
            "Father Name: Niaz muhammad Niazi\n",
            "Age: 19\n",
            "Education: Intermediate in Pre-medical\n",
            "\n"
          ]
        }
      ]
    },
    {
      "cell_type": "code",
      "source": [
        "name: str = \"Shehbaz Niazi\"\n",
        "fname: str = \"Niaz muhammad Niazi\"\n",
        "age: int = 19\n",
        "education: str = \"Intermediate in Pre-medical\"\n",
        "\n",
        "card9: str = \"\"\"\n",
        "PIAIC Student Card\n",
        "Student Name: {a}\n",
        "Father Name: {b}\n",
        "Age: {c}\n",
        "Education: {d}\n",
        "\"\"\".format(a=name,b=fname,c=age,d=education)\n",
        "\n",
        "print(card9)\n"
      ],
      "metadata": {
        "colab": {
          "base_uri": "https://localhost:8080/"
        },
        "id": "0uCzeuS4wchd",
        "outputId": "3d3d1248-472a-4ec1-91e8-f48bcb8722a7"
      },
      "execution_count": null,
      "outputs": [
        {
          "output_type": "stream",
          "name": "stdout",
          "text": [
            "\n",
            "PIAIC Student Card\n",
            "Student Name: Shehbaz Niazi\n",
            "Father Name: Niaz muhammad Niazi\n",
            "Age: 19\n",
            "Education: Intermediate in Pre-medical\n",
            "\n"
          ]
        }
      ]
    },
    {
      "cell_type": "code",
      "source": [
        "studentTotalCost:str = \"\"\"\n",
        "print(\"My name is Shehbaz Khan Niazi\")\n",
        "a: int = 10\n",
        "b: int = 20\n",
        "print(a+b)\n",
        "\"\"\"\n",
        "\n",
        "exec(studentTotalCost)"
      ],
      "metadata": {
        "colab": {
          "base_uri": "https://localhost:8080/"
        },
        "id": "DWQGl2cixMAp",
        "outputId": "c9ae8f9a-cfae-4cf3-caa1-d0742983cff4"
      },
      "execution_count": null,
      "outputs": [
        {
          "output_type": "stream",
          "name": "stdout",
          "text": [
            "My name is Shehbaz Khan Niazi\n",
            "30\n"
          ]
        }
      ]
    },
    {
      "cell_type": "markdown",
      "source": [
        "**String Methods**\n",
        "\n",
        "*   casefold\n",
        "*   capitalize\n",
        "*   upper\n",
        "*   lower\n",
        "\n"
      ],
      "metadata": {
        "id": "BTyeVtrmzEBE"
      }
    },
    {
      "cell_type": "code",
      "source": [
        "name: str = \"ShEhBaz NIazI\"\n",
        "print(name.casefold())\n",
        "print(name.capitalize())\n",
        "print(name.lower())\n",
        "print(name.upper())"
      ],
      "metadata": {
        "colab": {
          "base_uri": "https://localhost:8080/"
        },
        "id": "MpeeF50Fx9EL",
        "outputId": "29688a46-77c2-4ed3-eefe-dc197b2c86f1"
      },
      "execution_count": null,
      "outputs": [
        {
          "output_type": "stream",
          "name": "stdout",
          "text": [
            "shehbaz niazi\n",
            "Shehbaz niazi\n",
            "shehbaz niazi\n",
            "SHEHBAZ NIAZI\n"
          ]
        }
      ]
    },
    {
      "cell_type": "code",
      "source": [
        "name: str = \"        Shehbaz Niazi         \"\n",
        "\n",
        "display(name.lstrip())\n",
        "display(name.rstrip())\n",
        "display(name.strip())\n"
      ],
      "metadata": {
        "colab": {
          "base_uri": "https://localhost:8080/",
          "height": 73
        },
        "id": "VCCb8-Fiyyc5",
        "outputId": "544842e5-741b-4d2d-dd67-80417d74cc7e"
      },
      "execution_count": null,
      "outputs": [
        {
          "output_type": "display_data",
          "data": {
            "text/plain": [
              "'Shehbaz Niazi         '"
            ],
            "application/vnd.google.colaboratory.intrinsic+json": {
              "type": "string"
            }
          },
          "metadata": {}
        },
        {
          "output_type": "display_data",
          "data": {
            "text/plain": [
              "'        Shehbaz Niazi'"
            ],
            "application/vnd.google.colaboratory.intrinsic+json": {
              "type": "string"
            }
          },
          "metadata": {}
        },
        {
          "output_type": "display_data",
          "data": {
            "text/plain": [
              "'Shehbaz Niazi'"
            ],
            "application/vnd.google.colaboratory.intrinsic+json": {
              "type": "string"
            }
          },
          "metadata": {}
        }
      ]
    },
    {
      "cell_type": "code",
      "source": [
        "name: str = \"Shehbaz           Niazi\"\n",
        "\n",
        "display(name.strip())"
      ],
      "metadata": {
        "colab": {
          "base_uri": "https://localhost:8080/",
          "height": 36
        },
        "id": "izFqtotCzmPR",
        "outputId": "13f126de-dd7a-432f-96c5-8da949504c6b"
      },
      "execution_count": null,
      "outputs": [
        {
          "output_type": "display_data",
          "data": {
            "text/plain": [
              "'Shehbaz           Niazi'"
            ],
            "application/vnd.google.colaboratory.intrinsic+json": {
              "type": "string"
            }
          },
          "metadata": {}
        }
      ]
    },
    {
      "cell_type": "code",
      "source": [
        "import re\n",
        "\n",
        "name: str = \"Shehbaz           Niazi\"\n",
        "name1: str = re.sub(' {2,100}', '  ', name).strip()\n",
        "\n",
        "display(name1)\n"
      ],
      "metadata": {
        "colab": {
          "base_uri": "https://localhost:8080/",
          "height": 36
        },
        "id": "3wl1SujWzuPD",
        "outputId": "d18c52af-383f-4f73-d544-7db056a9e6c1"
      },
      "execution_count": null,
      "outputs": [
        {
          "output_type": "display_data",
          "data": {
            "text/plain": [
              "'Shehbaz  Niazi'"
            ],
            "application/vnd.google.colaboratory.intrinsic+json": {
              "type": "string"
            }
          },
          "metadata": {}
        }
      ]
    },
    {
      "cell_type": "code",
      "source": [
        "print(\"Name: \\t\\tShehbaz Niazi\")"
      ],
      "metadata": {
        "colab": {
          "base_uri": "https://localhost:8080/"
        },
        "id": "FisrizEi1ZA9",
        "outputId": "48371165-dd04-4238-e111-abdfd6c6a5da"
      },
      "execution_count": null,
      "outputs": [
        {
          "output_type": "stream",
          "name": "stdout",
          "text": [
            "Name: \t\tShehbaz Niazi\n"
          ]
        }
      ]
    },
    {
      "cell_type": "code",
      "source": [
        "print(\"Name: \\nShehbaz Niazi\")"
      ],
      "metadata": {
        "colab": {
          "base_uri": "https://localhost:8080/"
        },
        "id": "3eLaQz-Q15_x",
        "outputId": "158c4841-a051-4b6a-d4e2-bffe2cb0bcd3"
      },
      "execution_count": null,
      "outputs": [
        {
          "output_type": "stream",
          "name": "stdout",
          "text": [
            "Name: \n",
            "Shehbaz Niazi\n"
          ]
        }
      ]
    },
    {
      "cell_type": "code",
      "source": [
        "print(\"Name: \\bShehbaz Niazi\")\n"
      ],
      "metadata": {
        "colab": {
          "base_uri": "https://localhost:8080/"
        },
        "id": "u-t3EjiA2Azg",
        "outputId": "edea7634-7b5d-4100-dd15-12ea5aaf6b8a"
      },
      "execution_count": null,
      "outputs": [
        {
          "output_type": "stream",
          "name": "stdout",
          "text": [
            "Name: \bShehbaz Niazi\n"
          ]
        }
      ]
    },
    {
      "cell_type": "code",
      "source": [
        "nostarch_url:str = 'https://shehbazkhan_niazi.com'\n",
        "nostarch_url.removeprefix(\"https://\")"
      ],
      "metadata": {
        "colab": {
          "base_uri": "https://localhost:8080/",
          "height": 36
        },
        "id": "U2y2TDHn2Mph",
        "outputId": "bb4512c6-3b8a-4168-aef8-154fe7b7b83b"
      },
      "execution_count": null,
      "outputs": [
        {
          "output_type": "execute_result",
          "data": {
            "text/plain": [
              "'shehbazkhan_niazi.com'"
            ],
            "application/vnd.google.colaboratory.intrinsic+json": {
              "type": "string"
            }
          },
          "metadata": {},
          "execution_count": 79
        }
      ]
    },
    {
      "cell_type": "code",
      "source": [],
      "metadata": {
        "id": "SHdab0rg2jOi"
      },
      "execution_count": null,
      "outputs": []
    }
  ]
}
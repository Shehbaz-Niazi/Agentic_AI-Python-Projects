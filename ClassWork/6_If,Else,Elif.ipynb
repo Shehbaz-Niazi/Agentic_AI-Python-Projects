{
  "nbformat": 4,
  "nbformat_minor": 0,
  "metadata": {
    "colab": {
      "provenance": [],
      "authorship_tag": "ABX9TyM062yOJ2rkRDrj4qP8gPx/",
      "include_colab_link": true
    },
    "kernelspec": {
      "name": "python3",
      "display_name": "Python 3"
    },
    "language_info": {
      "name": "python"
    }
  },
  "cells": [
    {
      "cell_type": "markdown",
      "metadata": {
        "id": "view-in-github",
        "colab_type": "text"
      },
      "source": [
        "<a href=\"https://colab.research.google.com/github/Shehbaz-Niazi/Agentic_AI-Python-Projects/blob/main/ClassWork/6_If%2CElse%2CElif.ipynb\" target=\"_parent\"><img src=\"https://colab.research.google.com/assets/colab-badge.svg\" alt=\"Open In Colab\"/></a>"
      ]
    },
    {
      "cell_type": "markdown",
      "source": [
        "# **If, Else, Elif in  Python**"
      ],
      "metadata": {
        "id": "QHjw1p85rcgb"
      }
    },
    {
      "cell_type": "code",
      "execution_count": null,
      "metadata": {
        "colab": {
          "base_uri": "https://localhost:8080/"
        },
        "id": "8AgVB5MirB73",
        "outputId": "5a20a8f0-3927-40b2-aa96-8be481e7ab64"
      },
      "outputs": [
        {
          "output_type": "stream",
          "name": "stdout",
          "text": [
            "Hello World\n"
          ]
        }
      ],
      "source": [
        "if True:\n",
        "  print(\"Hello World\")  # True block\n",
        "else:\n",
        "  print(\"Good Bye\")  # False block"
      ]
    },
    {
      "cell_type": "code",
      "source": [
        "if False:\n",
        "  print(\"Hello World\")\n",
        "else:\n",
        "  print(\"Good Bye\")"
      ],
      "metadata": {
        "colab": {
          "base_uri": "https://localhost:8080/"
        },
        "id": "dI1KrdSvrn9A",
        "outputId": "40801773-396e-4836-cdf4-e124c1d9d477"
      },
      "execution_count": null,
      "outputs": [
        {
          "output_type": "stream",
          "name": "stdout",
          "text": [
            "Good Bye\n"
          ]
        }
      ]
    },
    {
      "cell_type": "markdown",
      "source": [
        "**If, Else in comprehansive style**"
      ],
      "metadata": {
        "id": "Ls3z6YBZr29V"
      }
    },
    {
      "cell_type": "code",
      "source": [
        "print(\"Hello World\") if True else print(\"Good Bye\")"
      ],
      "metadata": {
        "colab": {
          "base_uri": "https://localhost:8080/"
        },
        "id": "FJztBSYBrpxa",
        "outputId": "604161b0-6b72-4add-c89d-43a8e08cdbca"
      },
      "execution_count": null,
      "outputs": [
        {
          "output_type": "stream",
          "name": "stdout",
          "text": [
            "Hello World\n"
          ]
        }
      ]
    },
    {
      "cell_type": "code",
      "source": [
        "print(\"Hello World\") if False else print(\"Good Bye\")"
      ],
      "metadata": {
        "colab": {
          "base_uri": "https://localhost:8080/"
        },
        "id": "ZhBNQ3DHsF0t",
        "outputId": "71184cff-e8f3-41e0-919d-01acc3518c03"
      },
      "execution_count": null,
      "outputs": [
        {
          "output_type": "stream",
          "name": "stdout",
          "text": [
            "Good Bye\n"
          ]
        }
      ]
    },
    {
      "cell_type": "markdown",
      "source": [
        " **Static Grading System using If Else Elif**"
      ],
      "metadata": {
        "id": "SIEyN_scskGk"
      }
    },
    {
      "cell_type": "code",
      "source": [
        "from typing import Union\n",
        "\n",
        "percentage: Union[int,float] = 30\n",
        "grade: Union[str,None] = None\n",
        "\n",
        "if percentage >= 80:\n",
        "  grade = \"A+\"\n",
        "elif percentage >= 70:\n",
        "  grade = \"A\"\n",
        "elif percentage >= 60:\n",
        "  grade = \"B\"\n",
        "elif percentage >= 50:\n",
        "  grade = \"C\"\n",
        "elif percentage >= 40:\n",
        "  grade = \"D\"\n",
        "elif percentage >=30:\n",
        "  grade = \"E\"\n",
        "else:\n",
        "  grade = \"Fail\"\n",
        "\n",
        "print(f\"Dear Student your percentage is {percentage} and your grade is => : {grade}\")\n"
      ],
      "metadata": {
        "colab": {
          "base_uri": "https://localhost:8080/"
        },
        "id": "xCLFpjyIsjhP",
        "outputId": "721cd685-edef-4d0e-b673-54e83dd534ea"
      },
      "execution_count": null,
      "outputs": [
        {
          "output_type": "stream",
          "name": "stdout",
          "text": [
            "Dear Student your percentage is 30 and your grade is => : E\n"
          ]
        }
      ]
    },
    {
      "cell_type": "markdown",
      "source": [
        "# **Dynamic Grading System using If Else Elif**"
      ],
      "metadata": {
        "id": "uGe4BSEfuwty"
      }
    },
    {
      "cell_type": "code",
      "source": [
        "from typing import Union\n",
        "\n",
        "percentage: Union[int, float] = int(input(\"Enter Your Persentage:\"))\n",
        "grade: Union[str, None] = None\n",
        "\n",
        "if percentage >= 80:\n",
        "  grade = \"A+\"\n",
        "elif percentage >= 70:\n",
        "  grade = \"A\"\n",
        "elif percentage >= 60:\n",
        "  grade = \"B\"\n",
        "elif percentage >= 50:\n",
        "  grade = \"C\"\n",
        "elif percentage >= 40:\n",
        "  grade = \"D\"\n",
        "elif percentage >= 30:\n",
        "  grade = \"E\"\n",
        "else:\n",
        "  grade = \"Fail\"\n",
        "\n",
        "print(f\"Dear Student your percentage is {percentage} and your grade is => : {grade}\")"
      ],
      "metadata": {
        "colab": {
          "base_uri": "https://localhost:8080/"
        },
        "id": "plDp0kElurv0",
        "outputId": "06cd5484-6492-412a-e442-cff0b2462f74"
      },
      "execution_count": null,
      "outputs": [
        {
          "output_type": "stream",
          "name": "stdout",
          "text": [
            "Enter Your Persentage:70\n",
            "Dear Student your percentage is 70 and your grade is => : A\n"
          ]
        }
      ]
    },
    {
      "cell_type": "code",
      "source": [
        "from typing import Union\n",
        "\n",
        "percentage: Union[int, float] = int(input(\"Enter Your Persentage:\"))\n",
        "grade: Union[str, None] = None\n",
        "\n",
        "if percentage > 100 or percentage < 0:\n",
        "  print(\"❌ Invalid Percentage! Please enter 0–100 only.\")\n",
        "else:\n",
        "  if percentage >= 80 and percentage <=100:\n",
        "    grade = \"A+\"\n",
        "  elif percentage >= 70 and percentage < 80:\n",
        "    grade = \"A\"\n",
        "  elif percentage >= 60 and percentage < 70:\n",
        "    grade = \"B\"\n",
        "  elif percentage >= 50 and percentage < 60:\n",
        "    grade = \"C\"\n",
        "  elif percentage >= 40 and percentage < 50:\n",
        "    grade = \"D\"\n",
        "  elif percentage >= 30 and percentage < 40:\n",
        "    grade = \"E\"\n",
        "  else:\n",
        "    grade = \"Fail\"\n",
        "\n",
        "  print(f\"Dear Student your percentage is {percentage} and your grade is => : {grade}\")"
      ],
      "metadata": {
        "colab": {
          "base_uri": "https://localhost:8080/"
        },
        "id": "tz6lKmtRvqRa",
        "outputId": "3d5c8d0d-7b34-432d-f900-b82a7d41e455"
      },
      "execution_count": null,
      "outputs": [
        {
          "output_type": "stream",
          "name": "stdout",
          "text": [
            "Enter Your Persentage:20\n",
            "Dear Student your percentage is 20 and your grade is => : Fail\n"
          ]
        }
      ]
    },
    {
      "cell_type": "code",
      "source": [
        "from typing import Union\n",
        "# we can use round braces around logics\n",
        "\n",
        "percentage: Union[int, float] = int(input(\"Enter Your Persentage:\"))\n",
        "grade: Union[str, None] = None\n",
        "\n",
        "if (percentage > 100) or (percentage < 0):\n",
        "  print(\"❌ Invalid Percentage! Please enter 0–100 only.\")\n",
        "else:\n",
        "  if (percentage >= 80) and (percentage <=100):\n",
        "    grade = \"A+\"\n",
        "  elif (percentage >= 70) and (percentage < 80):\n",
        "    grade = \"A\"\n",
        "  elif (percentage >= 60) and (percentage < 70):\n",
        "    grade = \"B\"\n",
        "  elif (percentage >= 50) and (percentage < 60):\n",
        "    grade = \"C\"\n",
        "  elif (percentage >= 40) and (percentage < 50):\n",
        "    grade = \"D\"\n",
        "  elif (percentage >= 30) and (percentage < 40):\n",
        "    grade = \"E\"\n",
        "  else:\n",
        "    grade = \"Fail\"\n",
        "\n",
        "  print(f\"Dear Student your percentage is {percentage} and your grade is => : {grade}\")"
      ],
      "metadata": {
        "colab": {
          "base_uri": "https://localhost:8080/"
        },
        "id": "s2msnej8ya1x",
        "outputId": "25ff34ea-ee3b-47fe-9e67-b716465bed06"
      },
      "execution_count": null,
      "outputs": [
        {
          "output_type": "stream",
          "name": "stdout",
          "text": [
            "Enter Your Persentage:101\n",
            "❌ Invalid Percentage! Please enter 0–100 only.\n"
          ]
        }
      ]
    },
    {
      "cell_type": "markdown",
      "source": [
        "**Student Percentage Using List**"
      ],
      "metadata": {
        "id": "TuGrCFk8zoby"
      }
    },
    {
      "cell_type": "code",
      "source": [
        "from typing import Union\n",
        "\n",
        "perType = Union[int, float]\n",
        "\n",
        "student_percentage: list[perType] = [80, 90, 99.99, 70,60,50,40,30]\n",
        "grades: list[str] = [];\n",
        "\n",
        "for per in student_percentage:\n",
        "  grade: str = \"\"\n",
        "\n",
        "  if per >= 80 and per <= 100:\n",
        "    grade = \"A+\"\n",
        "  elif per >= 70 and per <= 80:\n",
        "    grade = \"A\"\n",
        "  elif per >= 60 and per <= 70:\n",
        "    grade = \"B\"\n",
        "  elif per >= 50 and per <= 60:\n",
        "    grade = \"C\"\n",
        "  elif per >= 40 and per <= 50:\n",
        "    grade = \"D\"\n",
        "  elif per >= 30 and per <= 40:\n",
        "    grade = \"E\"\n",
        "  else:\n",
        "    grade = \"Fali\"\n",
        "\n",
        "  grades.append(grade)\n",
        "\n",
        "print(student_percentage)\n",
        "print(grades)\n"
      ],
      "metadata": {
        "colab": {
          "base_uri": "https://localhost:8080/"
        },
        "id": "7RFE0hiE2Vh2",
        "outputId": "681b6fc6-ed89-46b7-8f14-656c43839f09"
      },
      "execution_count": null,
      "outputs": [
        {
          "output_type": "stream",
          "name": "stdout",
          "text": [
            "[80, 90, 99.99, 70, 60, 50, 40, 30]\n",
            "['A+', 'A+', 'A+', 'A', 'B', 'C', 'D', 'E']\n"
          ]
        }
      ]
    },
    {
      "cell_type": "markdown",
      "source": [
        "# **ZIP**"
      ],
      "metadata": {
        "id": "t_J9Tcoq5Nk3"
      }
    },
    {
      "cell_type": "code",
      "source": [
        "zip(student_percentage, grades)"
      ],
      "metadata": {
        "colab": {
          "base_uri": "https://localhost:8080/"
        },
        "id": "fZPfy0dB5M4H",
        "outputId": "88a520d3-6eaf-4fe1-bd43-47ab9de59c8b"
      },
      "execution_count": null,
      "outputs": [
        {
          "output_type": "execute_result",
          "data": {
            "text/plain": [
              "<zip at 0x7e525c89c140>"
            ]
          },
          "metadata": {},
          "execution_count": 7
        }
      ]
    },
    {
      "cell_type": "code",
      "source": [
        "list(zip(student_percentage, grades))"
      ],
      "metadata": {
        "colab": {
          "base_uri": "https://localhost:8080/"
        },
        "id": "b6grU6IR5w_c",
        "outputId": "9dc540da-592b-4c47-c9bd-a8e1405e9d2e"
      },
      "execution_count": null,
      "outputs": [
        {
          "output_type": "execute_result",
          "data": {
            "text/plain": [
              "[(80, 'A+'),\n",
              " (90, 'A+'),\n",
              " (99.99, 'A+'),\n",
              " (70, 'A'),\n",
              " (60, 'B'),\n",
              " (50, 'C'),\n",
              " (40, 'D'),\n",
              " (30, 'E')]"
            ]
          },
          "metadata": {},
          "execution_count": 8
        }
      ]
    },
    {
      "cell_type": "code",
      "source": [
        "roll_number: list[int] = list(range(len(student_percentage)))\n",
        "print(roll_number)\n",
        "\n",
        "dataBase = list(zip(roll_number, student_percentage, grades))\n",
        "print(dataBase)"
      ],
      "metadata": {
        "colab": {
          "base_uri": "https://localhost:8080/"
        },
        "id": "JXoc3BCK6N8A",
        "outputId": "a14777a3-4da9-40ed-c0d1-fdf75f00ab79"
      },
      "execution_count": null,
      "outputs": [
        {
          "output_type": "stream",
          "name": "stdout",
          "text": [
            "[0, 1, 2, 3, 4, 5, 6, 7]\n",
            "[(0, 80, 'A+'), (1, 90, 'A+'), (2, 99.99, 'A+'), (3, 70, 'A'), (4, 60, 'B'), (5, 50, 'C'), (6, 40, 'D'), (7, 30, 'E')]\n"
          ]
        }
      ]
    },
    {
      "cell_type": "code",
      "source": [
        "display(dataBase)"
      ],
      "metadata": {
        "colab": {
          "base_uri": "https://localhost:8080/",
          "height": 162
        },
        "id": "72mDAoot6-WA",
        "outputId": "47fed4ac-705b-4640-b4ce-984562c4bf98"
      },
      "execution_count": null,
      "outputs": [
        {
          "output_type": "display_data",
          "data": {
            "text/plain": [
              "[(0, 80, 'A+'),\n",
              " (1, 90, 'A+'),\n",
              " (2, 99.99, 'A+'),\n",
              " (3, 70, 'A'),\n",
              " (4, 60, 'B'),\n",
              " (5, 50, 'C'),\n",
              " (6, 40, 'D'),\n",
              " (7, 30, 'E')]"
            ]
          },
          "metadata": {}
        }
      ]
    },
    {
      "cell_type": "code",
      "source": [
        "sorted(dataBase, key=lambda x: x[1])"
      ],
      "metadata": {
        "colab": {
          "base_uri": "https://localhost:8080/"
        },
        "id": "i3EoryyT7Cs4",
        "outputId": "2416115c-58b1-4ab2-b22f-ad0e70bd54d8"
      },
      "execution_count": null,
      "outputs": [
        {
          "output_type": "execute_result",
          "data": {
            "text/plain": [
              "[(7, 30, 'E'),\n",
              " (6, 40, 'D'),\n",
              " (5, 50, 'C'),\n",
              " (4, 60, 'B'),\n",
              " (3, 70, 'A'),\n",
              " (0, 80, 'A+'),\n",
              " (1, 90, 'A+'),\n",
              " (2, 99.99, 'A+')]"
            ]
          },
          "metadata": {},
          "execution_count": 15
        }
      ]
    },
    {
      "cell_type": "code",
      "source": [
        "sorted(dataBase, key=lambda x: x[1], reverse=True)"
      ],
      "metadata": {
        "id": "AN1etSTy7TMu",
        "colab": {
          "base_uri": "https://localhost:8080/"
        },
        "outputId": "ae7d3192-4d61-499e-c6ae-7e66082ff36c"
      },
      "execution_count": null,
      "outputs": [
        {
          "output_type": "execute_result",
          "data": {
            "text/plain": [
              "[(2, 99.99, 'A+'),\n",
              " (1, 90, 'A+'),\n",
              " (0, 80, 'A+'),\n",
              " (3, 70, 'A'),\n",
              " (4, 60, 'B'),\n",
              " (5, 50, 'C'),\n",
              " (6, 40, 'D'),\n",
              " (7, 30, 'E')]"
            ]
          },
          "metadata": {},
          "execution_count": 17
        }
      ]
    },
    {
      "cell_type": "code",
      "source": [
        "cars : list[str] = ['audi', 'bmw', 'subaru', 'toyota']\n",
        "\n",
        "for car in cars:\n",
        "  if car == 'bmw':\n",
        "    print(car.upper())\n",
        "  else:\n",
        "    print(car.lower())"
      ],
      "metadata": {
        "colab": {
          "base_uri": "https://localhost:8080/"
        },
        "id": "iTYjeD7Bh06j",
        "outputId": "ebac8e40-f4d5-4f64-e83e-4ec357cce251"
      },
      "execution_count": null,
      "outputs": [
        {
          "output_type": "stream",
          "name": "stdout",
          "text": [
            "audi\n",
            "BMW\n",
            "subaru\n",
            "toyota\n"
          ]
        }
      ]
    },
    {
      "cell_type": "code",
      "source": [
        "cars : list[str] = ['audi', 'bmw', 'subaru', 'toyota']\n",
        "\n",
        "for car in cars:\n",
        "  if car == 'bmw':\n",
        "    print(car.upper())\n",
        "  else:\n",
        "    print(car.lower())"
      ],
      "metadata": {
        "colab": {
          "base_uri": "https://localhost:8080/"
        },
        "id": "RpabfOB3iSaX",
        "outputId": "e55d33dc-cecd-4cac-976c-26e8484dd853"
      },
      "execution_count": null,
      "outputs": [
        {
          "output_type": "stream",
          "name": "stdout",
          "text": [
            "audi\n",
            "BMW\n",
            "subaru\n",
            "toyota\n"
          ]
        }
      ]
    },
    {
      "cell_type": "code",
      "source": [
        "cars : list[str] = ['audi', 'bmw', 'subaru', 'toyota']\n",
        "\n",
        "result = [car.upper() if car =='bmw' else car.lower() for car in cars]\n",
        "print(result)"
      ],
      "metadata": {
        "colab": {
          "base_uri": "https://localhost:8080/"
        },
        "id": "Uo1USGofiw-1",
        "outputId": "e2a48ff4-51bd-4a3a-a7c9-986e116c6631"
      },
      "execution_count": null,
      "outputs": [
        {
          "output_type": "stream",
          "name": "stdout",
          "text": [
            "['audi', 'BMW', 'subaru', 'toyota']\n"
          ]
        }
      ]
    },
    {
      "cell_type": "code",
      "source": [
        "cars : list[str] = ['audi', 'bmw', 'subaru', 'toyota','mehran']\n",
        "\n",
        "for car in cars:\n",
        "  if car != 'mehran':\n",
        "    print(car.upper())\n",
        "  else:\n",
        "    print(car.title())"
      ],
      "metadata": {
        "colab": {
          "base_uri": "https://localhost:8080/"
        },
        "id": "1zeP0Ebxi59u",
        "outputId": "6fcbd519-37c0-499d-855a-8b41f9f0ade4"
      },
      "execution_count": null,
      "outputs": [
        {
          "output_type": "stream",
          "name": "stdout",
          "text": [
            "AUDI\n",
            "BMW\n",
            "SUBARU\n",
            "TOYOTA\n",
            "Mehran\n"
          ]
        }
      ]
    },
    {
      "cell_type": "code",
      "source": [
        "banned_users : list[str] = ['andrew', 'carolina', 'david']\n",
        "user: str = 'shehbaz'\n",
        "\n",
        "print(user not in banned_users)\n",
        "\n",
        "if user not in banned_users:\n",
        "    print(f\"{user.title()}, you can post a response if you wish.\")"
      ],
      "metadata": {
        "colab": {
          "base_uri": "https://localhost:8080/"
        },
        "id": "2ZtpmEzQkCaP",
        "outputId": "4736c14e-6dec-4e17-e01f-2f5df5083674"
      },
      "execution_count": null,
      "outputs": [
        {
          "output_type": "stream",
          "name": "stdout",
          "text": [
            "True\n",
            "Shehbaz, you can post a response if you wish.\n"
          ]
        }
      ]
    },
    {
      "cell_type": "code",
      "source": [
        "requested_toppings : list[str] = ['mushrooms', 'extra cheese']\n",
        "\n",
        "if 'mushrooms' in requested_toppings:\n",
        "      print(\"Adding mushrooms.\")\n",
        "\n",
        "if 'pepperoni' in requested_toppings:\n",
        "    print(\"Adding pepperoni.\")\n",
        "\n",
        "if 'extra cheese' in requested_toppings:\n",
        "    print(\"Adding extra cheese.\")\n",
        "\n",
        "print(\"\\nFinished making your pizza!\")"
      ],
      "metadata": {
        "colab": {
          "base_uri": "https://localhost:8080/"
        },
        "id": "eV_WvH4fkmXM",
        "outputId": "dda25843-c7d2-4048-a7f5-4ce61ead295f"
      },
      "execution_count": null,
      "outputs": [
        {
          "output_type": "stream",
          "name": "stdout",
          "text": [
            "Adding mushrooms.\n",
            "Adding extra cheese.\n",
            "\n",
            "Finished making your pizza!\n"
          ]
        }
      ]
    },
    {
      "cell_type": "code",
      "source": [
        "requested_toppings = ['mushrooms', 'green peppers', 'extra cheese']\n",
        "for requested_topping in requested_toppings:\n",
        "    if requested_topping == 'green peppers':\n",
        "        print(\"Sorry, we are out of green peppers right now.\")\n",
        "    else:\n",
        "        print(f\"Adding {requested_topping}.\")\n",
        "print(\"\\nFinished making your pizza!\")"
      ],
      "metadata": {
        "colab": {
          "base_uri": "https://localhost:8080/"
        },
        "id": "XawvYZ_hksqa",
        "outputId": "e98b07d5-33c4-4d71-c051-63320ccb5e7e"
      },
      "execution_count": null,
      "outputs": [
        {
          "output_type": "stream",
          "name": "stdout",
          "text": [
            "Adding mushrooms.\n",
            "Sorry, we are out of green peppers right now.\n",
            "Adding extra cheese.\n",
            "\n",
            "Finished making your pizza!\n"
          ]
        }
      ]
    },
    {
      "cell_type": "code",
      "source": [
        "requested_toppings = []\n",
        "\n",
        "if requested_toppings:\n",
        "    for requested_topping in requested_toppings:\n",
        "        print(f\"Adding {requested_topping}.\")\n",
        "    print(\"\\nFinished making your pizza!\")\n",
        "else:\n",
        "    print(\"Are you sure you want a plain pizza?\")"
      ],
      "metadata": {
        "colab": {
          "base_uri": "https://localhost:8080/"
        },
        "id": "ahhNU5Ask6G7",
        "outputId": "935db97f-0f24-4c7b-9409-d26b5b3ce8db"
      },
      "execution_count": null,
      "outputs": [
        {
          "output_type": "stream",
          "name": "stdout",
          "text": [
            "Are you sure you want a plain pizza?\n"
          ]
        }
      ]
    },
    {
      "cell_type": "code",
      "source": [
        "available_toppings:list[str] = ['mushrooms', 'olives', 'green peppers',\n",
        "                        'pepperoni', 'pineapple', 'extra cheese']\n",
        "\n",
        "requested_toppings:list[str] = ['mushrooms', 'french fries', 'extra cheese'] # user input\n",
        "\n",
        "for requested_topping in requested_toppings:\n",
        "    if requested_topping in available_toppings:\n",
        "        print(f\"Adding {requested_topping}.\")\n",
        "    else:\n",
        "        print(f\"Sorry, we don't have {requested_topping}.\")\n",
        "print(\"\\nFinished making your pizza!\")"
      ],
      "metadata": {
        "id": "zhkUQpaulGX8",
        "colab": {
          "base_uri": "https://localhost:8080/"
        },
        "outputId": "c63f2da6-7be1-49ab-f5c3-d3410c328a76"
      },
      "execution_count": null,
      "outputs": [
        {
          "output_type": "stream",
          "name": "stdout",
          "text": [
            "Adding mushrooms.\n",
            "Sorry, we don't have french fries.\n",
            "Adding extra cheese.\n",
            "\n",
            "Finished making your pizza!\n"
          ]
        }
      ]
    },
    {
      "cell_type": "code",
      "source": [
        "input(\"Enter ',' seprated value for topping\").split(\",\")"
      ],
      "metadata": {
        "colab": {
          "base_uri": "https://localhost:8080/"
        },
        "id": "maI4J7YAI-Fe",
        "outputId": "10d1c4cc-3c55-4525-9b7a-6d0b0df754f2"
      },
      "execution_count": null,
      "outputs": [
        {
          "name": "stdout",
          "output_type": "stream",
          "text": [
            "Enter ',' seprated value for toppingkhan, 123\n"
          ]
        },
        {
          "output_type": "execute_result",
          "data": {
            "text/plain": [
              "['khan', ' 123']"
            ]
          },
          "metadata": {},
          "execution_count": 5
        }
      ]
    },
    {
      "cell_type": "code",
      "source": [
        "username:str = input(\"Enter your name\")\n",
        "userPassword: str = input(\"Enter your password\")\n",
        "\n",
        "if username == 'admin' and userPassword == 'admin123':\n",
        "  print(\"Please Check your OTP number\")\n",
        "  otp: str = input('Enter Otp')\n",
        "  if otp == \"123\":\n",
        "    print(\"Login Successfully\")\n",
        "  else:\n",
        "    print(\"Invalid Otp\")\n",
        "else:\n",
        "  print(\"Your username or password in invalid\")"
      ],
      "metadata": {
        "colab": {
          "base_uri": "https://localhost:8080/"
        },
        "id": "2HLlrS-AJXQx",
        "outputId": "2577dc03-d6d2-494d-b684-bdc0e2d734de"
      },
      "execution_count": null,
      "outputs": [
        {
          "output_type": "stream",
          "name": "stdout",
          "text": [
            "Enter your nameadmin\n",
            "Enter your passwordadmin123\n",
            "Please Check your OTP number\n",
            "Enter Otp222\n",
            "Invalid Otp\n"
          ]
        }
      ]
    },
    {
      "cell_type": "code",
      "source": [],
      "metadata": {
        "id": "aLCPCWmkKjTf"
      },
      "execution_count": null,
      "outputs": []
    }
  ]
}
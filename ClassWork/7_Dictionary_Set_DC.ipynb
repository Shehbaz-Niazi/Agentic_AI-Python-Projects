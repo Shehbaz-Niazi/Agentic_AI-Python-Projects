{
  "nbformat": 4,
  "nbformat_minor": 0,
  "metadata": {
    "colab": {
      "provenance": [],
      "authorship_tag": "ABX9TyPhJb8BU9IY6o29Q4SzSgRd",
      "include_colab_link": true
    },
    "kernelspec": {
      "name": "python3",
      "display_name": "Python 3"
    },
    "language_info": {
      "name": "python"
    }
  },
  "cells": [
    {
      "cell_type": "markdown",
      "metadata": {
        "id": "view-in-github",
        "colab_type": "text"
      },
      "source": [
        "<a href=\"https://colab.research.google.com/github/Shehbaz-Niazi/Agentic_AI-Python-Projects/blob/main/ClassWork/7_Dictionary_Set_DC.ipynb\" target=\"_parent\"><img src=\"https://colab.research.google.com/assets/colab-badge.svg\" alt=\"Open In Colab\"/></a>"
      ]
    },
    {
      "cell_type": "markdown",
      "source": [
        "# **Dictionary in Python**"
      ],
      "metadata": {
        "id": "-M3Vr7HU-Mgj"
      }
    },
    {
      "cell_type": "code",
      "execution_count": 6,
      "metadata": {
        "colab": {
          "base_uri": "https://localhost:8080/"
        },
        "id": "7Tn5_aBP8WUT",
        "outputId": "29681613-c5c9-4abf-ac8f-fec3d13c1df8"
      },
      "outputs": [
        {
          "output_type": "stream",
          "name": "stdout",
          "text": [
            "{'Name': 'Shehbaz Niazi', 'Fname': 'Niaz Muhammad', 'age': '18', 'Education': 'BSAI'}\n",
            "Shehbaz Niazi\n",
            "Niaz Muhammad\n"
          ]
        }
      ],
      "source": [
        "from typing import Dict\n",
        "data: Dict = {\n",
        "    \"Name\":\"Shehbaz Niazi\",\n",
        "    \"Fname\":\"Niaz Muhammad\",\n",
        "    \"age\": \"18\",\n",
        "    \"Education\": \"BSAI\",\n",
        "}\n",
        "\n",
        "print(data)\n",
        "print(data[\"Name\"]) # access key\n",
        "print(data[\"Fname\"])  # access key"
      ]
    },
    {
      "cell_type": "markdown",
      "source": [
        "**Create custom data type**"
      ],
      "metadata": {
        "id": "4Uxffv87BCI-"
      }
    },
    {
      "cell_type": "code",
      "source": [
        "from typing import Dict, Union, Optional\n",
        "\n",
        "key = Union[int,str]\n",
        "Value = Union[int,str]\n",
        "\n",
        "data: Dict[key, Value] = {\n",
        "    \"Name\":\"Shehbaz Niazi\",\n",
        "    \"Fname\":\"Niaz Muhammad\",\n",
        "    \"age\": \"18\",\n",
        "    \"Education\": \"BSAI\",\n",
        "}\n",
        "\n",
        "print(data)\n"
      ],
      "metadata": {
        "colab": {
          "base_uri": "https://localhost:8080/"
        },
        "id": "9t2JamlLA_FK",
        "outputId": "36ece6b5-aca3-4af5-92cd-1c52385b4d9b"
      },
      "execution_count": 11,
      "outputs": [
        {
          "output_type": "stream",
          "name": "stdout",
          "text": [
            "{'Name': 'Shehbaz Niazi', 'Fname': 'Niaz Muhammad', 'age': '18', 'Education': 'BSAI'}\n"
          ]
        }
      ]
    },
    {
      "cell_type": "markdown",
      "source": [
        "**we can use tuple, list, set in dictionary**"
      ],
      "metadata": {
        "id": "XRI83jF1C2S1"
      }
    },
    {
      "cell_type": "code",
      "source": [
        "from typing import Dict, Union, Optional\n",
        "import pprint\n",
        "\n",
        "key = Union[int,str]\n",
        "Value = Union[int,str]\n",
        "\n",
        "data: Dict[key, Value] = {\n",
        "    \"Name\":\"Shehbaz Niazi\",\n",
        "    \"Fname\":\"Niaz Muhammad\",\n",
        "    \"age\": \"18\",\n",
        "    \"Education\": \"BSAI\",\n",
        "    \"Hobbies\" : [\"Cricket\", \"Reading\", \"Hourse Riding\"],\n",
        "    \"Tuple\" : (0,\"Learning\", 1,\"Experience\", 2,\"Writing\"),\n",
        "}\n",
        "\n",
        "pprint.pprint(data)"
      ],
      "metadata": {
        "colab": {
          "base_uri": "https://localhost:8080/"
        },
        "id": "c_0yAam4BuBK",
        "outputId": "125f4abc-7f41-48b4-d6a5-59bcf3d88059"
      },
      "execution_count": 15,
      "outputs": [
        {
          "output_type": "stream",
          "name": "stdout",
          "text": [
            "{'Education': 'BSAI',\n",
            " 'Fname': 'Niaz Muhammad',\n",
            " 'Hobbies': ['Cricket', 'Reading', 'Hourse Riding'],\n",
            " 'Name': 'Shehbaz Niazi',\n",
            " 'Tuple': (0, 'Learning', 1, 'Experience', 2, 'Writing'),\n",
            " 'age': '18'}\n"
          ]
        }
      ]
    },
    {
      "cell_type": "code",
      "source": [
        "from typing import Dict, Union, Optional\n",
        "import pprint\n",
        "\n",
        "key = Union[int,str, tuple]\n",
        "Value = Union[int,str,tuple]\n",
        "\n",
        "data: Dict[key, Value] = {\n",
        "    \"Name\":\"Shehbaz Niazi\",\n",
        "    \"Fname\":\"Niaz Muhammad\",\n",
        "    \"age\": \"18\",\n",
        "    \"Education\": \"BSAI\",\n",
        "    \"Hobbies\" : [\"Cricket\", \"Reading\", \"Hourse Riding\"],\n",
        "    \"Tuple\" : (0,\"Learning\", 1,\"Experience\", 2,\"Writing\"),\n",
        "}\n",
        "\n",
        "\n",
        "print(data[\"Name\"])\n",
        "print(data[\"Fname\"])\n",
        "print(data[\"Hobbies\"][2])\n",
        "print(data[\"Tuple\"])"
      ],
      "metadata": {
        "colab": {
          "base_uri": "https://localhost:8080/"
        },
        "id": "UzriSMwoC1AN",
        "outputId": "a7312bca-7460-4b33-9bf9-29a11050a6e5"
      },
      "execution_count": 26,
      "outputs": [
        {
          "output_type": "stream",
          "name": "stdout",
          "text": [
            "Shehbaz Niazi\n",
            "Niaz Muhammad\n",
            "Hourse Riding\n",
            "(0, 'Learning', 1, 'Experience', 2, 'Writing')\n"
          ]
        }
      ]
    },
    {
      "cell_type": "code",
      "source": [
        "from typing import Dict, Union, Optional\n",
        "import pprint\n",
        "\n",
        "\n",
        "Key = Union[int,str] # create custom type\n",
        "Value = Union[int, str, list, dict, tuple, set]\n",
        "\n",
        "data : Dict[Key,Value] = {\n",
        "                        \"fname\":\"Muhammad Aslam\",\n",
        "                        \"name\":\"Muhammad Qasim\",\n",
        "                        \"education\": \"MSDS\"}\n",
        "\n",
        "\n",
        "print(data.keys()) # keys\n",
        "print(data.values()) # values\n",
        "print(data.items())\n",
        "\n",
        "for k,v in data.items():\n",
        "    print(k,v)"
      ],
      "metadata": {
        "colab": {
          "base_uri": "https://localhost:8080/"
        },
        "id": "MDc9HswHVEFI",
        "outputId": "52fc084c-08c4-4734-bf17-7917c07e5fe1"
      },
      "execution_count": 55,
      "outputs": [
        {
          "output_type": "stream",
          "name": "stdout",
          "text": [
            "dict_keys(['fname', 'name', 'education'])\n",
            "dict_values(['Muhammad Aslam', 'Muhammad Qasim', 'MSDS'])\n",
            "dict_values(['Muhammad Aslam', 'Muhammad Qasim', 'MSDS'])\n",
            "dict_items([('fname', 'Muhammad Aslam'), ('name', 'Muhammad Qasim'), ('education', 'MSDS')])\n",
            "fname Muhammad Aslam\n",
            "name Muhammad Qasim\n",
            "education MSDS\n"
          ]
        }
      ]
    },
    {
      "cell_type": "markdown",
      "source": [
        "# **Set in Dictionary**"
      ],
      "metadata": {
        "id": "CEAy0_-dEQMz"
      }
    },
    {
      "cell_type": "code",
      "source": [
        "data : set = {7,1,2,1,1,1,1,3,2}\n",
        "print(data)"
      ],
      "metadata": {
        "colab": {
          "base_uri": "https://localhost:8080/"
        },
        "id": "8kvmnKk_EPqF",
        "outputId": "4ad2b41c-d203-4e1f-8137-6e151d4ade76"
      },
      "execution_count": 28,
      "outputs": [
        {
          "output_type": "stream",
          "name": "stdout",
          "text": [
            "{1, 2, 3, 7}\n"
          ]
        }
      ]
    },
    {
      "cell_type": "code",
      "source": [
        "from typing import Dict\n",
        "data:Dict = {\"Shehbaz\":\"Niazi\"}\n",
        "result = []\n",
        "\n",
        "for i in dir(data):\n",
        "  if \"__\" not in i:\n",
        "    result.append(i)\n",
        "\n",
        "for i in result:\n",
        "  print(i)"
      ],
      "metadata": {
        "colab": {
          "base_uri": "https://localhost:8080/"
        },
        "id": "Loxh4EujEuPl",
        "outputId": "a2ffb36b-1ce4-4bfa-bcbf-6f263d5008ab"
      },
      "execution_count": 53,
      "outputs": [
        {
          "output_type": "stream",
          "name": "stdout",
          "text": [
            "clear\n",
            "copy\n",
            "fromkeys\n",
            "get\n",
            "items\n",
            "keys\n",
            "pop\n",
            "popitem\n",
            "setdefault\n",
            "update\n",
            "values\n"
          ]
        }
      ]
    },
    {
      "cell_type": "code",
      "source": [
        "data = []\n",
        "\n",
        "for i in dir(set):\n",
        "  if \"_\" not in i:\n",
        "    data.append(i)\n",
        "\n",
        "print(data)"
      ],
      "metadata": {
        "colab": {
          "base_uri": "https://localhost:8080/"
        },
        "id": "IrMdGXMZF3NI",
        "outputId": "d5a93ecc-385f-4381-bd11-ae200fb8be0b"
      },
      "execution_count": 44,
      "outputs": [
        {
          "output_type": "stream",
          "name": "stdout",
          "text": [
            "['add', 'clear', 'copy', 'difference', 'discard', 'intersection', 'isdisjoint', 'issubset', 'issuperset', 'pop', 'remove', 'union', 'update']\n"
          ]
        }
      ]
    },
    {
      "cell_type": "code",
      "source": [
        "[i for i in dir(set) if \"_\" not in i]"
      ],
      "metadata": {
        "colab": {
          "base_uri": "https://localhost:8080/"
        },
        "id": "c7QWa2IcHUDY",
        "outputId": "8d137f4e-6491-41f1-d2e7-fbcd56c253d3"
      },
      "execution_count": 50,
      "outputs": [
        {
          "output_type": "execute_result",
          "data": {
            "text/plain": [
              "['add',\n",
              " 'clear',\n",
              " 'copy',\n",
              " 'difference',\n",
              " 'discard',\n",
              " 'intersection',\n",
              " 'isdisjoint',\n",
              " 'issubset',\n",
              " 'issuperset',\n",
              " 'pop',\n",
              " 'remove',\n",
              " 'union',\n",
              " 'update']"
            ]
          },
          "metadata": {},
          "execution_count": 50
        }
      ]
    },
    {
      "cell_type": "code",
      "source": [
        "data : set = {7,1,2,1,1,1,1,3,2}\n",
        "print(data) # return unique"
      ],
      "metadata": {
        "colab": {
          "base_uri": "https://localhost:8080/"
        },
        "id": "wAB3J-JBIVnn",
        "outputId": "187285a3-8669-44be-bc77-aafe5392ffb8"
      },
      "execution_count": 47,
      "outputs": [
        {
          "output_type": "stream",
          "name": "stdout",
          "text": [
            "{1, 2, 3, 7}\n"
          ]
        }
      ]
    },
    {
      "cell_type": "code",
      "source": [
        "abc : set = {1,2,3,2,2,2,1}\n",
        "print(abc)\n",
        "xyz : list[int] = list(abc)\n",
        "print(xyz)"
      ],
      "metadata": {
        "colab": {
          "base_uri": "https://localhost:8080/"
        },
        "id": "inVsmxpEIfi5",
        "outputId": "6b1968f4-d259-4c7b-b3c2-65f845035cde"
      },
      "execution_count": 48,
      "outputs": [
        {
          "output_type": "stream",
          "name": "stdout",
          "text": [
            "{1, 2, 3}\n",
            "[1, 2, 3]\n"
          ]
        }
      ]
    },
    {
      "cell_type": "code",
      "source": [
        "a : int = 7\n",
        "b : int = 9\n",
        "\n",
        "a, b = b, a # shuffle\n",
        "\n",
        "print(a,b)"
      ],
      "metadata": {
        "colab": {
          "base_uri": "https://localhost:8080/"
        },
        "id": "JibsEPs3WJv2",
        "outputId": "b0f16885-6895-4d02-c0e9-c6af8402851f"
      },
      "execution_count": 56,
      "outputs": [
        {
          "output_type": "stream",
          "name": "stdout",
          "text": [
            "9 7\n"
          ]
        }
      ]
    },
    {
      "cell_type": "code",
      "source": [
        "keys : list[str] = ['id','name','fname','course']\n",
        "\n",
        "data : dict[Key,Value] = {}\n",
        "\n",
        "print(data)\n",
        "\n",
        "data = data.fromkeys(keys) # inline\n",
        "\n",
        "print(data)"
      ],
      "metadata": {
        "colab": {
          "base_uri": "https://localhost:8080/"
        },
        "id": "wfQOZ1QaWM5X",
        "outputId": "09ac19b2-46c9-4de9-b3d9-a16ebbdc9c87"
      },
      "execution_count": 58,
      "outputs": [
        {
          "output_type": "stream",
          "name": "stdout",
          "text": [
            "{}\n",
            "{'id': None, 'name': None, 'fname': None, 'course': None}\n"
          ]
        }
      ]
    }
  ]
}